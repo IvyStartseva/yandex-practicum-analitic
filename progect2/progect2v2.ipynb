{
 "cells": [
  {
   "cell_type": "markdown",
   "id": "d694b3f5",
   "metadata": {},
   "source": [
    "<div style=\"border:solid green 2px; padding: 20px\">\n",
    "    \n",
    "<b>Анна, привет!</b> Мы рады тебя видеть на территории код-ревьюеров. Ты проделала большую работу над проектом, но давай познакомимся и сделаем его еще лучше! У нас тут своя атмосфера и несколько правил:\n",
    "\n",
    "\n",
    "1. Меня зовут Александр Матвеевский. Я работаю код-ревьюером, моя основная цель — не указать на совершенные тобою ошибки, а поделиться своим опытом  помочь тебе стать аналитиком данных.\n",
    "2. Общаемся на ты.\n",
    "3. Если хочешь написать, спросить - не нужно стесняться. Только выбери свой цвет для комментария.  \n",
    "4. Это учебный проект, тут можно не бояться сделать ошибку.  \n",
    "5. У тебя неограниченное количество попыток для сдачи проекта.  \n",
    "6. Let's Go!\n",
    "\n",
    "---\n",
    "Я буду красить комментарии цветом, пожалуйста, не удаляй их:\n",
    "\n",
    "<div class=\"alert alert-block alert-danger\">✍\n",
    "    \n",
    "\n",
    "__Комментарий от ревьюера №1__\n",
    "\n",
    "Такой комментарий нужно исправить обязательно, он критически влияет на удачное выполнение проекта.\n",
    "</div>\n",
    "    \n",
    "---\n",
    "\n",
    "<div class=\"alert alert-block alert-warning\">📝\n",
    "    \n",
    "\n",
    "__Комментарий от ревьюера №1__\n",
    "\n",
    "\n",
    "Такой комментарий является рекомендацией или советом. Можешь использовать их на своё усмотрение.\n",
    "</div>\n",
    "\n",
    "---\n",
    "\n",
    "<div class=\"alert alert-block alert-success\">✔️\n",
    "    \n",
    "\n",
    "__Комментарий от ревьюера №1__\n",
    "\n",
    "Такой комментарий  говорит о том, что было сделано что-то качественное и правильное =)\n",
    "</div>\n",
    "    \n",
    "---\n",
    "    \n",
    "Предлагаю работать над проектом в диалоге: если ты что-то меняешь в проекте или отвечаешь на мои комментарии — пиши об этом. Мне будет легче отследить изменения, если ты выделишь свои комментарии:   \n",
    "    \n",
    "<div class=\"alert alert-info\"> <b>Комментарии студента:</b> Например, вот так.</div>\n",
    "    \n",
    "Всё это поможет выполнить повторную проверку твоего проекта оперативнее. Если будут какие-нибудь вопросы по моим комментариям, пиши, будем разбираться вместе :)    \n",
    "    \n",
    "---"
   ]
  },
  {
   "cell_type": "markdown",
   "id": "0ed98d75",
   "metadata": {},
   "source": [
    "<div class=\"alert alert-info\"> <b>Комментарии студента:</b> Привет, Александр! Спасибо за советы и подсказки.</div>"
   ]
  },
  {
   "cell_type": "markdown",
   "id": "398d11fa",
   "metadata": {},
   "source": [
    "# Сборный проект 2."
   ]
  },
  {
   "cell_type": "markdown",
   "id": "ff39a245",
   "metadata": {},
   "source": [
    "## Задачи исследования"
   ]
  },
  {
   "cell_type": "markdown",
   "id": "a573a2a0",
   "metadata": {},
   "source": [
    "1.  **Изучение данных:**  \n",
    "    * Загрузить файлы и посмотреть данные;\n",
    "    * Посмотреть всю необходимую информацию по структуре дата сетов;\n",
    "    * Сделать предварительные выводы по качеству данных.  \n",
    "1. **Предобработка данных:**\n",
    "    * Найти и обработать пропуски в данных;\n",
    "    * Заменить некорректные типы данных;\n",
    "    * Проверить на  дубликаты;\n",
    "    * Заменить некорректные названия столбцов;\n",
    "    * Обработать столбцы с датами и временем;\n",
    "    * Написать пояснения к проделанным пунктам.\n",
    "1. **Изучение данных**\n",
    "Ответить на вопросы:\n",
    "   * Сколько всего событий в логе?\n",
    "   * Сколько всего пользователей в логе?\n",
    "   * Сколько в среднем событий приходится на пользователя?\n",
    "   * Данными за какой период мы располагаем? \n",
    "   * Много ли событий и пользователей были потеряны при отбрасывании старых дат?\n",
    "   * Есть ли пользователи из всех трёх экспериментальных групп?\n",
    "1. **Изучение воронки событий**\n",
    "   * Какие события есть в логах и как часто они встречаются?\n",
    "   * Сколько пользователей совершили каждое из этих событий? Доля пользователей, которые хоть раз совершали событие?\n",
    "   *  В каком порядке происходят события. Все ли они выстраиваются в последовательную цепочку?\n",
    "   * По воронке событий посчитать, какая доля пользователей проходит на следующий шаг воронки (от числа пользователей на предыдущем).\n",
    "   * На каком шаге теряется больше всего пользователей?\n",
    "   * Какая доля пользователей доходит от первого события до оплаты?\n",
    "1. **А/А/В тест (Изучение результатов эксперемента)**\n",
    "   * Сколько пользователей в каждой экспериментальной группе?\n",
    "   * Найти стат значимость критериев для A/A теста.\n",
    "   * Для самого популярного из событий найти число пользователей совершивших его в каждой из групп, найти долю таких пользователей. Проверить отличия между группами на статистическую достоверность. Сделать то же для остальных событий.\n",
    "   * \n",
    "   *\n",
    "1. **Общие выводы и рекомендации**    "
   ]
  },
  {
   "cell_type": "markdown",
   "id": "db2ddbfb",
   "metadata": {},
   "source": [
    "## Описание данных"
   ]
  },
  {
   "cell_type": "markdown",
   "id": "492f1c49",
   "metadata": {},
   "source": [
    "Каждая запись в логе — это действие пользователя, или событие. \n",
    "* **EventName** — название события;\n",
    "* **DeviceIDHash** — уникальный идентификатор пользователя;\n",
    "* **EventTimestamp** — время события;\n",
    "* **ExpId** — номер эксперимента: 246 и 247 — контрольные группы, а 248 — экспериментальная."
   ]
  },
  {
   "cell_type": "markdown",
   "id": "cf60f09a",
   "metadata": {},
   "source": [
    "<div class=\"alert alert-block alert-success\">✔️\n",
    "    \n",
    "\n",
    "__Комментарий от ревьюера №1__\n",
    "\n",
    "\n",
    "Отличная практика - расписывать цель и основные этапы своими словами (этот навык очень поможет на фильнальном проекте).\n",
    "</div>"
   ]
  },
  {
   "cell_type": "markdown",
   "id": "036ab02b",
   "metadata": {},
   "source": [
    "# Выгрузка и изучение данных"
   ]
  },
  {
   "cell_type": "code",
   "execution_count": 1,
   "id": "846e4180",
   "metadata": {},
   "outputs": [],
   "source": [
    "#импортируем нуждные библиотеки\n",
    "import warnings\n",
    "warnings.filterwarnings('ignore')\n",
    "\n",
    "import pandas as pd\n",
    "import numpy as np\n",
    "import math as mth\n",
    "import seaborn as sns\n",
    "import matplotlib.pyplot as plt\n",
    "from scipy import stats as st\n",
    "\n",
    "from plotly import graph_objects as go"
   ]
  },
  {
   "cell_type": "code",
   "execution_count": 2,
   "id": "f011e9cd",
   "metadata": {},
   "outputs": [],
   "source": [
    "#снимаем ограничение на количество столбцов\n",
    "pd.set_option('display.max_columns', None)\n",
    "\n",
    "# ставим ограничение на показ знаков после запятой\n",
    "pd.options.display.float_format = '{:,.2f}'.format\n",
    "\n",
    "# ставим стиль отображения графиков\n",
    "sns.set_style(\"darkgrid\")\n",
    "\n",
    "# снимаем ограничение на ширину столбцов\n",
    "pd.set_option('display.max_colwidth', None)\n",
    "\n",
    "# задаем размер графика\n",
    "sns.set(rc={'figure.figsize':(9,5)})"
   ]
  },
  {
   "cell_type": "code",
   "execution_count": 3,
   "id": "18e9cfbe",
   "metadata": {},
   "outputs": [],
   "source": [
    "try:\n",
    "    df = pd.read_csv('logs_exp.csv', sep='\\t')\n",
    "except:\n",
    "    df = pd.read_csv('/datasets/logs_exp.csv', sep='\\t')"
   ]
  },
  {
   "cell_type": "code",
   "execution_count": 4,
   "id": "b6064d98",
   "metadata": {},
   "outputs": [],
   "source": [
    "def all_df(df):\n",
    "    display(df.head())\n",
    "    print(\"______________________________________________________\")\n",
    "    print(df.info())\n",
    "    print(\"______________________________________________________\")\n",
    "    print(\"Пропущенных значений в столбцах\")\n",
    "    print(df.isna().sum())\n",
    "    print(\"______________________________________________________\")\n",
    "    print(f'число дубликатов в \"df\":{df.duplicated().sum()}')"
   ]
  },
  {
   "cell_type": "code",
   "execution_count": 5,
   "id": "3fc8666c",
   "metadata": {},
   "outputs": [
    {
     "data": {
      "text/html": [
       "<div>\n",
       "<style scoped>\n",
       "    .dataframe tbody tr th:only-of-type {\n",
       "        vertical-align: middle;\n",
       "    }\n",
       "\n",
       "    .dataframe tbody tr th {\n",
       "        vertical-align: top;\n",
       "    }\n",
       "\n",
       "    .dataframe thead th {\n",
       "        text-align: right;\n",
       "    }\n",
       "</style>\n",
       "<table border=\"1\" class=\"dataframe\">\n",
       "  <thead>\n",
       "    <tr style=\"text-align: right;\">\n",
       "      <th></th>\n",
       "      <th>EventName</th>\n",
       "      <th>DeviceIDHash</th>\n",
       "      <th>EventTimestamp</th>\n",
       "      <th>ExpId</th>\n",
       "    </tr>\n",
       "  </thead>\n",
       "  <tbody>\n",
       "    <tr>\n",
       "      <th>0</th>\n",
       "      <td>MainScreenAppear</td>\n",
       "      <td>4575588528974610257</td>\n",
       "      <td>1564029816</td>\n",
       "      <td>246</td>\n",
       "    </tr>\n",
       "    <tr>\n",
       "      <th>1</th>\n",
       "      <td>MainScreenAppear</td>\n",
       "      <td>7416695313311560658</td>\n",
       "      <td>1564053102</td>\n",
       "      <td>246</td>\n",
       "    </tr>\n",
       "    <tr>\n",
       "      <th>2</th>\n",
       "      <td>PaymentScreenSuccessful</td>\n",
       "      <td>3518123091307005509</td>\n",
       "      <td>1564054127</td>\n",
       "      <td>248</td>\n",
       "    </tr>\n",
       "    <tr>\n",
       "      <th>3</th>\n",
       "      <td>CartScreenAppear</td>\n",
       "      <td>3518123091307005509</td>\n",
       "      <td>1564054127</td>\n",
       "      <td>248</td>\n",
       "    </tr>\n",
       "    <tr>\n",
       "      <th>4</th>\n",
       "      <td>PaymentScreenSuccessful</td>\n",
       "      <td>6217807653094995999</td>\n",
       "      <td>1564055322</td>\n",
       "      <td>248</td>\n",
       "    </tr>\n",
       "  </tbody>\n",
       "</table>\n",
       "</div>"
      ],
      "text/plain": [
       "                 EventName         DeviceIDHash  EventTimestamp  ExpId\n",
       "0         MainScreenAppear  4575588528974610257      1564029816    246\n",
       "1         MainScreenAppear  7416695313311560658      1564053102    246\n",
       "2  PaymentScreenSuccessful  3518123091307005509      1564054127    248\n",
       "3         CartScreenAppear  3518123091307005509      1564054127    248\n",
       "4  PaymentScreenSuccessful  6217807653094995999      1564055322    248"
      ]
     },
     "metadata": {},
     "output_type": "display_data"
    },
    {
     "name": "stdout",
     "output_type": "stream",
     "text": [
      "______________________________________________________\n",
      "<class 'pandas.core.frame.DataFrame'>\n",
      "RangeIndex: 244126 entries, 0 to 244125\n",
      "Data columns (total 4 columns):\n",
      " #   Column          Non-Null Count   Dtype \n",
      "---  ------          --------------   ----- \n",
      " 0   EventName       244126 non-null  object\n",
      " 1   DeviceIDHash    244126 non-null  int64 \n",
      " 2   EventTimestamp  244126 non-null  int64 \n",
      " 3   ExpId           244126 non-null  int64 \n",
      "dtypes: int64(3), object(1)\n",
      "memory usage: 7.5+ MB\n",
      "None\n",
      "______________________________________________________\n",
      "Пропущенных значений в столбцах\n",
      "EventName         0\n",
      "DeviceIDHash      0\n",
      "EventTimestamp    0\n",
      "ExpId             0\n",
      "dtype: int64\n",
      "______________________________________________________\n",
      "число дубликатов в \"df\":413\n"
     ]
    }
   ],
   "source": [
    "all_df(df)"
   ]
  },
  {
   "cell_type": "markdown",
   "id": "b271a76a",
   "metadata": {},
   "source": [
    "**Вывод**\n",
    "На данном этапе были найдены следующие проблемы в данных:\n",
    "* Неудобный регистр в названиях столбцов;\n",
    "* данные из столбца EventTimestamp нужно из формата int перевести в дату и время;\n",
    "* обнаружено 413 полных дубликата в данных. Их необходимо удалить.\n",
    "  \n",
    "Пропусков в данных нет  "
   ]
  },
  {
   "cell_type": "markdown",
   "id": "c5e10bcb",
   "metadata": {},
   "source": [
    "<div class=\"alert alert-block alert-success\">✔️\n",
    "    \n",
    "\n",
    "__Комментарий от ревьюера №1__\n",
    "    \n",
    "Отлично! Первый взгляд на данные есть."
   ]
  },
  {
   "cell_type": "markdown",
   "id": "92bc7f0c",
   "metadata": {},
   "source": [
    "# Предобработка данных"
   ]
  },
  {
   "cell_type": "markdown",
   "id": "22ff9122",
   "metadata": {},
   "source": [
    "Устраним проблемы найденные на прошлом этапе."
   ]
  },
  {
   "cell_type": "code",
   "execution_count": 6,
   "id": "6752fb43",
   "metadata": {},
   "outputs": [
    {
     "data": {
      "text/plain": [
       "['EventName', 'DeviceIDHash', 'EventTimestamp', 'ExpId']"
      ]
     },
     "execution_count": 6,
     "metadata": {},
     "output_type": "execute_result"
    }
   ],
   "source": [
    "df.columns.tolist()"
   ]
  },
  {
   "cell_type": "code",
   "execution_count": 7,
   "id": "1374568e",
   "metadata": {},
   "outputs": [
    {
     "data": {
      "text/plain": [
       "['event_name', 'user_id', 'event_timestamp', 'exp_id']"
      ]
     },
     "execution_count": 7,
     "metadata": {},
     "output_type": "execute_result"
    }
   ],
   "source": [
    "#приведем названия столбцов к \"змеиному\" регистру\n",
    "df.columns = ['event_name', 'user_id', 'event_timestamp', 'exp_id']\n",
    "df.columns.tolist()"
   ]
  },
  {
   "cell_type": "code",
   "execution_count": 8,
   "id": "c1c74115",
   "metadata": {},
   "outputs": [],
   "source": [
    "#добавляем столбцы с датой и временем\n",
    "df['date_time'] = pd.to_datetime(df['event_timestamp'], unit='s')\n",
    "df['date'] = df['date_time'].astype('datetime64[D]')"
   ]
  },
  {
   "cell_type": "code",
   "execution_count": 9,
   "id": "5b54d26e",
   "metadata": {},
   "outputs": [],
   "source": [
    "#удаляем дубликаты в данных\n",
    "df = df.drop_duplicates().reset_index(drop=True)"
   ]
  },
  {
   "cell_type": "code",
   "execution_count": 10,
   "id": "d2db982c",
   "metadata": {},
   "outputs": [],
   "source": [
    "#добавим еще столбец с названием групп\n",
    "\n",
    "def group(row):\n",
    "    if row['exp_id'] == 246:\n",
    "        return 'A'\n",
    "    elif row['exp_id'] == 247:\n",
    "        return 'A2'\n",
    "    else:\n",
    "        return 'B'"
   ]
  },
  {
   "cell_type": "code",
   "execution_count": 11,
   "id": "8305d1b9",
   "metadata": {},
   "outputs": [],
   "source": [
    "df['group'] = df.apply(group, axis=1)"
   ]
  },
  {
   "cell_type": "code",
   "execution_count": 12,
   "id": "c47caa96",
   "metadata": {},
   "outputs": [
    {
     "data": {
      "text/html": [
       "<div>\n",
       "<style scoped>\n",
       "    .dataframe tbody tr th:only-of-type {\n",
       "        vertical-align: middle;\n",
       "    }\n",
       "\n",
       "    .dataframe tbody tr th {\n",
       "        vertical-align: top;\n",
       "    }\n",
       "\n",
       "    .dataframe thead th {\n",
       "        text-align: right;\n",
       "    }\n",
       "</style>\n",
       "<table border=\"1\" class=\"dataframe\">\n",
       "  <thead>\n",
       "    <tr style=\"text-align: right;\">\n",
       "      <th></th>\n",
       "      <th>event_name</th>\n",
       "      <th>user_id</th>\n",
       "      <th>event_timestamp</th>\n",
       "      <th>exp_id</th>\n",
       "      <th>date_time</th>\n",
       "      <th>date</th>\n",
       "      <th>group</th>\n",
       "    </tr>\n",
       "  </thead>\n",
       "  <tbody>\n",
       "    <tr>\n",
       "      <th>0</th>\n",
       "      <td>MainScreenAppear</td>\n",
       "      <td>4575588528974610257</td>\n",
       "      <td>1564029816</td>\n",
       "      <td>246</td>\n",
       "      <td>2019-07-25 04:43:36</td>\n",
       "      <td>2019-07-25</td>\n",
       "      <td>A</td>\n",
       "    </tr>\n",
       "    <tr>\n",
       "      <th>1</th>\n",
       "      <td>MainScreenAppear</td>\n",
       "      <td>7416695313311560658</td>\n",
       "      <td>1564053102</td>\n",
       "      <td>246</td>\n",
       "      <td>2019-07-25 11:11:42</td>\n",
       "      <td>2019-07-25</td>\n",
       "      <td>A</td>\n",
       "    </tr>\n",
       "    <tr>\n",
       "      <th>2</th>\n",
       "      <td>PaymentScreenSuccessful</td>\n",
       "      <td>3518123091307005509</td>\n",
       "      <td>1564054127</td>\n",
       "      <td>248</td>\n",
       "      <td>2019-07-25 11:28:47</td>\n",
       "      <td>2019-07-25</td>\n",
       "      <td>B</td>\n",
       "    </tr>\n",
       "    <tr>\n",
       "      <th>3</th>\n",
       "      <td>CartScreenAppear</td>\n",
       "      <td>3518123091307005509</td>\n",
       "      <td>1564054127</td>\n",
       "      <td>248</td>\n",
       "      <td>2019-07-25 11:28:47</td>\n",
       "      <td>2019-07-25</td>\n",
       "      <td>B</td>\n",
       "    </tr>\n",
       "    <tr>\n",
       "      <th>4</th>\n",
       "      <td>PaymentScreenSuccessful</td>\n",
       "      <td>6217807653094995999</td>\n",
       "      <td>1564055322</td>\n",
       "      <td>248</td>\n",
       "      <td>2019-07-25 11:48:42</td>\n",
       "      <td>2019-07-25</td>\n",
       "      <td>B</td>\n",
       "    </tr>\n",
       "  </tbody>\n",
       "</table>\n",
       "</div>"
      ],
      "text/plain": [
       "                event_name              user_id  event_timestamp  exp_id  \\\n",
       "0         MainScreenAppear  4575588528974610257       1564029816     246   \n",
       "1         MainScreenAppear  7416695313311560658       1564053102     246   \n",
       "2  PaymentScreenSuccessful  3518123091307005509       1564054127     248   \n",
       "3         CartScreenAppear  3518123091307005509       1564054127     248   \n",
       "4  PaymentScreenSuccessful  6217807653094995999       1564055322     248   \n",
       "\n",
       "            date_time       date group  \n",
       "0 2019-07-25 04:43:36 2019-07-25     A  \n",
       "1 2019-07-25 11:11:42 2019-07-25     A  \n",
       "2 2019-07-25 11:28:47 2019-07-25     B  \n",
       "3 2019-07-25 11:28:47 2019-07-25     B  \n",
       "4 2019-07-25 11:48:42 2019-07-25     B  "
      ]
     },
     "metadata": {},
     "output_type": "display_data"
    },
    {
     "name": "stdout",
     "output_type": "stream",
     "text": [
      "______________________________________________________\n",
      "<class 'pandas.core.frame.DataFrame'>\n",
      "RangeIndex: 243713 entries, 0 to 243712\n",
      "Data columns (total 7 columns):\n",
      " #   Column           Non-Null Count   Dtype         \n",
      "---  ------           --------------   -----         \n",
      " 0   event_name       243713 non-null  object        \n",
      " 1   user_id          243713 non-null  int64         \n",
      " 2   event_timestamp  243713 non-null  int64         \n",
      " 3   exp_id           243713 non-null  int64         \n",
      " 4   date_time        243713 non-null  datetime64[ns]\n",
      " 5   date             243713 non-null  datetime64[ns]\n",
      " 6   group            243713 non-null  object        \n",
      "dtypes: datetime64[ns](2), int64(3), object(2)\n",
      "memory usage: 13.0+ MB\n",
      "None\n",
      "______________________________________________________\n",
      "Пропущенных значений в столбцах\n",
      "event_name         0\n",
      "user_id            0\n",
      "event_timestamp    0\n",
      "exp_id             0\n",
      "date_time          0\n",
      "date               0\n",
      "group              0\n",
      "dtype: int64\n",
      "______________________________________________________\n",
      "число дубликатов в \"df\":0\n"
     ]
    }
   ],
   "source": [
    "all_df(df)"
   ]
  },
  {
   "cell_type": "markdown",
   "id": "55adb57e",
   "metadata": {},
   "source": [
    "**Вывод**  \n",
    "Проблемы в данных были устранены. Теперь они полностью готовы для дальнейшей работы."
   ]
  },
  {
   "cell_type": "markdown",
   "id": "dfce045c",
   "metadata": {},
   "source": [
    "<div class=\"alert alert-block alert-success\">✔️\n",
    "    \n",
    "\n",
    "__Комментарий от ревьюера №1__\n",
    "    \n",
    "Первый раздел сделан хорошо. Проверены основные возможные проблемы в данных."
   ]
  },
  {
   "cell_type": "markdown",
   "id": "f65f6c1b",
   "metadata": {},
   "source": [
    "# Изучение данных "
   ]
  },
  {
   "cell_type": "markdown",
   "id": "f3ed36fd",
   "metadata": {},
   "source": [
    "Изучим предоставленные данные более подробно и ответим на поставленные вопросы:\n",
    "- [x] Сколько всего событий в логе?\n",
    "- [x] Сколько всего пользователей в логе?\n",
    "- [x] Сколько в среднем событий приходится на пользователя?\n",
    "- [x] Данными за какой период вы располагаете? Найдите максимальную и минимальную дату. Постройте гистограмму по дате и времени. Можно ли быть уверенным, что у вас одинаково полные данные за весь период? Технически в логи новых дней по некоторым пользователям могут «доезжать» события из прошлого — это может «перекашивать данные». Определите, с какого момента данные полные и отбросьте более старые. Данными за какой период времени вы располагаете на самом деле?\n",
    "- [x] Много ли событий и пользователей вы потеряли, отбросив старые данные?\n",
    "- [x] Проверьте, что у вас есть пользователи из всех трёх экспериментальных групп."
   ]
  },
  {
   "cell_type": "code",
   "execution_count": 13,
   "id": "bd470e63",
   "metadata": {},
   "outputs": [
    {
     "name": "stdout",
     "output_type": "stream",
     "text": [
      "Всего событий в логе: 243713, типов событий: 5\n",
      "['MainScreenAppear', 'PaymentScreenSuccessful', 'CartScreenAppear', 'OffersScreenAppear', 'Tutorial']\n"
     ]
    }
   ],
   "source": [
    "print (f'Всего событий в логе: {df.shape[0]}, типов событий:',df['event_name'].nunique())\n",
    "print(df['event_name'].unique().tolist())"
   ]
  },
  {
   "cell_type": "code",
   "execution_count": 14,
   "id": "fca960b2",
   "metadata": {},
   "outputs": [
    {
     "name": "stdout",
     "output_type": "stream",
     "text": [
      "Всего пользователей в логе: 7551\n"
     ]
    }
   ],
   "source": [
    "print('Всего пользователей в логе:', df['user_id'].nunique())"
   ]
  },
  {
   "cell_type": "code",
   "execution_count": 15,
   "id": "24d2c1cc",
   "metadata": {},
   "outputs": [
    {
     "name": "stdout",
     "output_type": "stream",
     "text": [
      "В среднем событий на человека: 32\n"
     ]
    }
   ],
   "source": [
    "print('В среднем событий на человека:', round(df.shape[0] / df['user_id'].nunique()))"
   ]
  },
  {
   "cell_type": "markdown",
   "id": "85068af8",
   "metadata": {},
   "source": [
    "Взглянем на то, как события раскиданы по пользователям."
   ]
  },
  {
   "cell_type": "code",
   "execution_count": 16,
   "id": "a6b6c333",
   "metadata": {},
   "outputs": [
    {
     "name": "stdout",
     "output_type": "stream",
     "text": [
      "95 и 99 процентили:  [ 89.  200.5]\n"
     ]
    },
    {
     "data": {
      "text/html": [
       "<div>\n",
       "<style scoped>\n",
       "    .dataframe tbody tr th:only-of-type {\n",
       "        vertical-align: middle;\n",
       "    }\n",
       "\n",
       "    .dataframe tbody tr th {\n",
       "        vertical-align: top;\n",
       "    }\n",
       "\n",
       "    .dataframe thead th {\n",
       "        text-align: right;\n",
       "    }\n",
       "</style>\n",
       "<table border=\"1\" class=\"dataframe\">\n",
       "  <thead>\n",
       "    <tr style=\"text-align: right;\">\n",
       "      <th></th>\n",
       "      <th>event_name</th>\n",
       "    </tr>\n",
       "  </thead>\n",
       "  <tbody>\n",
       "    <tr>\n",
       "      <th>count</th>\n",
       "      <td>7,551.00</td>\n",
       "    </tr>\n",
       "    <tr>\n",
       "      <th>mean</th>\n",
       "      <td>32.28</td>\n",
       "    </tr>\n",
       "    <tr>\n",
       "      <th>std</th>\n",
       "      <td>65.15</td>\n",
       "    </tr>\n",
       "    <tr>\n",
       "      <th>min</th>\n",
       "      <td>1.00</td>\n",
       "    </tr>\n",
       "    <tr>\n",
       "      <th>25%</th>\n",
       "      <td>9.00</td>\n",
       "    </tr>\n",
       "    <tr>\n",
       "      <th>50%</th>\n",
       "      <td>20.00</td>\n",
       "    </tr>\n",
       "    <tr>\n",
       "      <th>75%</th>\n",
       "      <td>37.00</td>\n",
       "    </tr>\n",
       "    <tr>\n",
       "      <th>max</th>\n",
       "      <td>2,307.00</td>\n",
       "    </tr>\n",
       "  </tbody>\n",
       "</table>\n",
       "</div>"
      ],
      "text/plain": [
       "       event_name\n",
       "count    7,551.00\n",
       "mean        32.28\n",
       "std         65.15\n",
       "min          1.00\n",
       "25%          9.00\n",
       "50%         20.00\n",
       "75%         37.00\n",
       "max      2,307.00"
      ]
     },
     "execution_count": 16,
     "metadata": {},
     "output_type": "execute_result"
    }
   ],
   "source": [
    "events_for_user = df.groupby('user_id').agg({'event_name':'count'})\n",
    "print('95 и 99 процентили: ', np.percentile(events_for_user['event_name'], [95,99]))\n",
    "events_for_user.describe()"
   ]
  },
  {
   "cell_type": "code",
   "execution_count": 17,
   "id": "dc3dbe88",
   "metadata": {
    "scrolled": false
   },
   "outputs": [
    {
     "data": {
      "image/png": "[encoded data removed]",
      "text/plain": [
       "<Figure size 900x500 with 1 Axes>"
      ]
     },
     "metadata": {},
     "output_type": "display_data"
    }
   ],
   "source": [
    "x_values = pd.Series(range(0,len(df['user_id'].unique())))\n",
    "plt.scatter(x_values, events_for_user['event_name'], color='mediumseagreen', alpha=0.5)\n",
    "\n",
    "plt.title('Количество совершенных действий на пользователя')\n",
    "plt.xlabel('кол. пользователей')\n",
    "plt.ylabel('Кол.действий')\n",
    "plt.show()"
   ]
  },
  {
   "cell_type": "markdown",
   "id": "d0c2e17c",
   "metadata": {},
   "source": [
    "Из таблицы и грвфика видно, что поведение отдельных пользователей сильно отличается, достаточно большоя часть тех, кто совершает только одно действие, такие пользователи видимо дальше главной страницы и не уходят, по каким то причинам  она не вызывает у них дальнейшего интереса, возможно над этим стоит поработать. Медианное значение действий на пользователя 20, в среднем же пользователи совершают 32 действия, этого вполне достаточно для того, что бы зайти на сайт, посмотреть страницы с нужными товарами, оформить заказ и купить их. Однако есть и аномально активные пользователи. Например тот кто совершил за время эксперимента 2307 действий. Но таких пользователей не много не более 1% совершали более 200 действий."
   ]
  },
  {
   "cell_type": "markdown",
   "id": "59b371e9",
   "metadata": {},
   "source": [
    "Посмотри еще как выглядит приближенная диаграмма размаха, что бы визуально оценить медиану и интервалы. "
   ]
  },
  {
   "cell_type": "code",
   "execution_count": 18,
   "id": "21ff71bf",
   "metadata": {},
   "outputs": [
    {
     "data": {
      "image/png": "[encoded data removed]",
      "text/plain": [
       "<Figure size 900x500 with 1 Axes>"
      ]
     },
     "metadata": {},
     "output_type": "display_data"
    }
   ],
   "source": [
    "plt.boxplot(events_for_user)\n",
    "plt.ylim(0,100)\n",
    "plt.title('Диаграмма размаха количества действий на пользователя')\n",
    "plt.ylabel('Кол.действий')\n",
    "plt.show()"
   ]
  },
  {
   "cell_type": "markdown",
   "id": "2112d196",
   "metadata": {},
   "source": [
    "По диаграмме видно что действительно большая часть пользователей совершает не более 80 действий, как мы уже находили по процентилям, лишь более 5% совершает больше 89.  \n",
    "Что бы принять решение о том, стоит ли удалять таких пользователей посмотрим еще на их поведение по каждой из групп."
   ]
  },
  {
   "cell_type": "code",
   "execution_count": 19,
   "id": "469323b8",
   "metadata": {},
   "outputs": [
    {
     "data": {
      "text/html": [
       "<div>\n",
       "<style scoped>\n",
       "    .dataframe tbody tr th:only-of-type {\n",
       "        vertical-align: middle;\n",
       "    }\n",
       "\n",
       "    .dataframe tbody tr th {\n",
       "        vertical-align: top;\n",
       "    }\n",
       "\n",
       "    .dataframe thead th {\n",
       "        text-align: right;\n",
       "    }\n",
       "</style>\n",
       "<table border=\"1\" class=\"dataframe\">\n",
       "  <thead>\n",
       "    <tr style=\"text-align: right;\">\n",
       "      <th>group</th>\n",
       "      <th>A</th>\n",
       "      <th>A2</th>\n",
       "      <th>B</th>\n",
       "    </tr>\n",
       "  </thead>\n",
       "  <tbody>\n",
       "    <tr>\n",
       "      <th>count</th>\n",
       "      <td>2,489.00</td>\n",
       "      <td>2,520.00</td>\n",
       "      <td>2,542.00</td>\n",
       "    </tr>\n",
       "    <tr>\n",
       "      <th>mean</th>\n",
       "      <td>32.21</td>\n",
       "      <td>30.93</td>\n",
       "      <td>33.67</td>\n",
       "    </tr>\n",
       "    <tr>\n",
       "      <th>std</th>\n",
       "      <td>65.09</td>\n",
       "      <td>56.30</td>\n",
       "      <td>72.93</td>\n",
       "    </tr>\n",
       "    <tr>\n",
       "      <th>min</th>\n",
       "      <td>1.00</td>\n",
       "      <td>1.00</td>\n",
       "      <td>1.00</td>\n",
       "    </tr>\n",
       "    <tr>\n",
       "      <th>25%</th>\n",
       "      <td>9.00</td>\n",
       "      <td>9.00</td>\n",
       "      <td>9.00</td>\n",
       "    </tr>\n",
       "    <tr>\n",
       "      <th>50%</th>\n",
       "      <td>19.00</td>\n",
       "      <td>19.50</td>\n",
       "      <td>20.00</td>\n",
       "    </tr>\n",
       "    <tr>\n",
       "      <th>75%</th>\n",
       "      <td>37.00</td>\n",
       "      <td>37.00</td>\n",
       "      <td>38.00</td>\n",
       "    </tr>\n",
       "    <tr>\n",
       "      <th>max</th>\n",
       "      <td>1,998.00</td>\n",
       "      <td>1,768.00</td>\n",
       "      <td>2,307.00</td>\n",
       "    </tr>\n",
       "  </tbody>\n",
       "</table>\n",
       "</div>"
      ],
      "text/plain": [
       "group        A       A2        B\n",
       "count 2,489.00 2,520.00 2,542.00\n",
       "mean     32.21    30.93    33.67\n",
       "std      65.09    56.30    72.93\n",
       "min       1.00     1.00     1.00\n",
       "25%       9.00     9.00     9.00\n",
       "50%      19.00    19.50    20.00\n",
       "75%      37.00    37.00    38.00\n",
       "max   1,998.00 1,768.00 2,307.00"
      ]
     },
     "execution_count": 19,
     "metadata": {},
     "output_type": "execute_result"
    }
   ],
   "source": [
    "df.pivot_table(index='user_id',columns='group', values='event_name',aggfunc='count').describe()"
   ]
  },
  {
   "cell_type": "markdown",
   "id": "724fc696",
   "metadata": {},
   "source": [
    "В целом в каждой из групп есть очень похожии аномалии и выборки распределены очень схожим образом, значит на результаты тестирования наши сверх активные пользоватеи не должны повлиять. Так как эти люди распределены по группам равномерно, возможно в тест закрались действая кого-то из ай ти команды, но в целом результаты искажать они не должны как раз из за схожего поведения во всех 3х выборках. Оставим всех на месте и не будем удалять никого из данных. "
   ]
  },
  {
   "cell_type": "markdown",
   "id": "eec245aa",
   "metadata": {},
   "source": [
    "<div class=\"alert alert-block alert-warning\">📝\n",
    "    \n",
    "\n",
    "__Комментарий от ревьюера №1__\n",
    "\n",
    "\n",
    "Можно посмотреть на распределение количества событий на пользователя и посмотреть на выбросы построив диаграмму размаха. (рассмотреть медиану, моду, квантили)\n",
    "</div>"
   ]
  },
  {
   "cell_type": "markdown",
   "id": "c86f519a",
   "metadata": {},
   "source": [
    "<div class=\"alert alert-info\"> <b>Комментарии студента:</b> Добавила разбивку по пользователям </div>"
   ]
  },
  {
   "cell_type": "code",
   "execution_count": 20,
   "id": "94f485b2",
   "metadata": {},
   "outputs": [
    {
     "name": "stdout",
     "output_type": "stream",
     "text": [
      "минимальная дата: 2019-07-25 04:43:36 максимальная дата: 2019-08-07 21:15:17\n"
     ]
    }
   ],
   "source": [
    "print('минимальная дата:',df['date_time'].min(), 'максимальная дата:', df['date_time'].max())"
   ]
  },
  {
   "cell_type": "code",
   "execution_count": 21,
   "id": "1ab0d056",
   "metadata": {},
   "outputs": [
    {
     "name": "stdout",
     "output_type": "stream",
     "text": [
      "Данные за: 13 days 16:31:41\n"
     ]
    }
   ],
   "source": [
    "print('Данные за:',df['date_time'].max() - df['date_time'].min())"
   ]
  },
  {
   "cell_type": "markdown",
   "id": "f496e1e1",
   "metadata": {},
   "source": [
    "Найдем число событий по дням, а так же их доли от общего числа событий."
   ]
  },
  {
   "cell_type": "code",
   "execution_count": 22,
   "id": "fe15a0e6",
   "metadata": {},
   "outputs": [
    {
     "data": {
      "text/html": [
       "<div>\n",
       "<style scoped>\n",
       "    .dataframe tbody tr th:only-of-type {\n",
       "        vertical-align: middle;\n",
       "    }\n",
       "\n",
       "    .dataframe tbody tr th {\n",
       "        vertical-align: top;\n",
       "    }\n",
       "\n",
       "    .dataframe thead th {\n",
       "        text-align: right;\n",
       "    }\n",
       "</style>\n",
       "<table border=\"1\" class=\"dataframe\">\n",
       "  <thead>\n",
       "    <tr style=\"text-align: right;\">\n",
       "      <th></th>\n",
       "      <th>date</th>\n",
       "      <th>event_count</th>\n",
       "      <th>pers</th>\n",
       "      <th>cum_pers</th>\n",
       "    </tr>\n",
       "  </thead>\n",
       "  <tbody>\n",
       "    <tr>\n",
       "      <th>0</th>\n",
       "      <td>2019-07-25</td>\n",
       "      <td>9</td>\n",
       "      <td>0.00</td>\n",
       "      <td>0.00</td>\n",
       "    </tr>\n",
       "    <tr>\n",
       "      <th>1</th>\n",
       "      <td>2019-07-26</td>\n",
       "      <td>31</td>\n",
       "      <td>0.01</td>\n",
       "      <td>0.02</td>\n",
       "    </tr>\n",
       "    <tr>\n",
       "      <th>2</th>\n",
       "      <td>2019-07-27</td>\n",
       "      <td>55</td>\n",
       "      <td>0.02</td>\n",
       "      <td>0.04</td>\n",
       "    </tr>\n",
       "    <tr>\n",
       "      <th>3</th>\n",
       "      <td>2019-07-28</td>\n",
       "      <td>105</td>\n",
       "      <td>0.04</td>\n",
       "      <td>0.08</td>\n",
       "    </tr>\n",
       "    <tr>\n",
       "      <th>4</th>\n",
       "      <td>2019-07-29</td>\n",
       "      <td>184</td>\n",
       "      <td>0.08</td>\n",
       "      <td>0.16</td>\n",
       "    </tr>\n",
       "    <tr>\n",
       "      <th>5</th>\n",
       "      <td>2019-07-30</td>\n",
       "      <td>412</td>\n",
       "      <td>0.17</td>\n",
       "      <td>0.33</td>\n",
       "    </tr>\n",
       "    <tr>\n",
       "      <th>6</th>\n",
       "      <td>2019-07-31</td>\n",
       "      <td>2030</td>\n",
       "      <td>0.83</td>\n",
       "      <td>1.16</td>\n",
       "    </tr>\n",
       "    <tr>\n",
       "      <th>7</th>\n",
       "      <td>2019-08-01</td>\n",
       "      <td>36141</td>\n",
       "      <td>14.83</td>\n",
       "      <td>15.99</td>\n",
       "    </tr>\n",
       "    <tr>\n",
       "      <th>8</th>\n",
       "      <td>2019-08-02</td>\n",
       "      <td>35554</td>\n",
       "      <td>14.59</td>\n",
       "      <td>30.58</td>\n",
       "    </tr>\n",
       "    <tr>\n",
       "      <th>9</th>\n",
       "      <td>2019-08-03</td>\n",
       "      <td>33282</td>\n",
       "      <td>13.66</td>\n",
       "      <td>44.23</td>\n",
       "    </tr>\n",
       "    <tr>\n",
       "      <th>10</th>\n",
       "      <td>2019-08-04</td>\n",
       "      <td>32968</td>\n",
       "      <td>13.53</td>\n",
       "      <td>57.76</td>\n",
       "    </tr>\n",
       "    <tr>\n",
       "      <th>11</th>\n",
       "      <td>2019-08-05</td>\n",
       "      <td>36058</td>\n",
       "      <td>14.80</td>\n",
       "      <td>72.56</td>\n",
       "    </tr>\n",
       "    <tr>\n",
       "      <th>12</th>\n",
       "      <td>2019-08-06</td>\n",
       "      <td>35788</td>\n",
       "      <td>14.68</td>\n",
       "      <td>87.24</td>\n",
       "    </tr>\n",
       "    <tr>\n",
       "      <th>13</th>\n",
       "      <td>2019-08-07</td>\n",
       "      <td>31096</td>\n",
       "      <td>12.76</td>\n",
       "      <td>100.00</td>\n",
       "    </tr>\n",
       "  </tbody>\n",
       "</table>\n",
       "</div>"
      ],
      "text/plain": [
       "         date  event_count  pers  cum_pers\n",
       "0  2019-07-25            9  0.00      0.00\n",
       "1  2019-07-26           31  0.01      0.02\n",
       "2  2019-07-27           55  0.02      0.04\n",
       "3  2019-07-28          105  0.04      0.08\n",
       "4  2019-07-29          184  0.08      0.16\n",
       "5  2019-07-30          412  0.17      0.33\n",
       "6  2019-07-31         2030  0.83      1.16\n",
       "7  2019-08-01        36141 14.83     15.99\n",
       "8  2019-08-02        35554 14.59     30.58\n",
       "9  2019-08-03        33282 13.66     44.23\n",
       "10 2019-08-04        32968 13.53     57.76\n",
       "11 2019-08-05        36058 14.80     72.56\n",
       "12 2019-08-06        35788 14.68     87.24\n",
       "13 2019-08-07        31096 12.76    100.00"
      ]
     },
     "execution_count": 22,
     "metadata": {},
     "output_type": "execute_result"
    }
   ],
   "source": [
    "table = df.groupby('date').agg({'event_name': 'count'}).reset_index()\n",
    "table.columns = ['date', 'event_count']\n",
    "table['pers'] = table['event_count'] / table['event_count'].sum() * 100\n",
    "table['cum_pers'] = table['pers'].cumsum()\n",
    "table"
   ]
  },
  {
   "cell_type": "code",
   "execution_count": 23,
   "id": "0a2b0e0b",
   "metadata": {},
   "outputs": [
    {
     "data": {
      "image/png": "[encoded data removed]",
      "text/plain": [
       "<Figure size 900x500 with 1 Axes>"
      ]
     },
     "metadata": {},
     "output_type": "display_data"
    }
   ],
   "source": [
    "plt.figure(figsize =(9, 5))\n",
    "df['date_time'].hist(\n",
    "                bins=14, color='mediumaquamarine', edgecolor='black',grid=False\n",
    "                )\n",
    "plt.title('Гистограмма по дате и времени')\n",
    "plt.xlabel('Дата')\n",
    "plt.ylabel('Количество событий')\n",
    "plt.xticks(rotation=75)\n",
    "\n",
    "plt.show()"
   ]
  },
  {
   "cell_type": "markdown",
   "id": "c740b534",
   "metadata": {},
   "source": [
    "<div class=\"alert alert-block alert-warning\">📝\n",
    "    \n",
    "\n",
    "__Комментарий от ревьюера №1__\n",
    "\n",
    "\n",
    "График построен верно, но он не отражает мелкие детали) В данном случае можно было бы подробнее расмотреть данные за 31 июля и 1 августа и понять когда был точно по часам запущен тест. Так же можно увеличить число корзин, и посмотреть как распределяются события днём и ночью\n",
    "</div>"
   ]
  },
  {
   "cell_type": "markdown",
   "id": "1e58ee10",
   "metadata": {},
   "source": [
    "<div class=\"alert alert-info\"> <b>Комментарии студента:</b> Я тут наоборот хотела посмотреть больше на картину в целом, что бы понять данные по дням и в каких данные точно не полные, а уже в после отрезания лишних более конкретно </div>"
   ]
  },
  {
   "cell_type": "markdown",
   "id": "4c44b309",
   "metadata": {},
   "source": [
    "По построинным таблице и гистограмме видно, что данные равпределены не равномерно. По сути полными данными мы располагаем только с \t2019-08-01\tпо 2019-08-07. Остальные данные являются старыми и не подходят для исследования так как могут его \"перекашивать\". Стоит от них избавиться. Получится, что мы откинем 1.16% исходных данных."
   ]
  },
  {
   "cell_type": "code",
   "execution_count": 24,
   "id": "6ebdd11e",
   "metadata": {
    "scrolled": true
   },
   "outputs": [
    {
     "name": "stdout",
     "output_type": "stream",
     "text": [
      "Событий потеряно: 2826\n"
     ]
    }
   ],
   "source": [
    "print('Событий потеряно:', df.query('date < \"2019-08-01\"').shape[0])"
   ]
  },
  {
   "cell_type": "code",
   "execution_count": 25,
   "id": "fce42e0d",
   "metadata": {},
   "outputs": [],
   "source": [
    "df_new = df.query('date >= \"2019-08-01\"')"
   ]
  },
  {
   "cell_type": "markdown",
   "id": "e33007b8",
   "metadata": {},
   "source": [
    "<div class=\"alert alert-block alert-success\">✔️\n",
    "    \n",
    "\n",
    "__Комментарий от ревьюера №1__\n",
    "\n",
    "Согласен, данные раньше 1 Августа можно отбросить\n",
    "</div>"
   ]
  },
  {
   "cell_type": "code",
   "execution_count": 26,
   "id": "0805cfb1",
   "metadata": {},
   "outputs": [
    {
     "name": "stdout",
     "output_type": "stream",
     "text": [
      "Пользователей потеряно: 17 или 0.23%\n"
     ]
    }
   ],
   "source": [
    "lost_id = df['user_id'].nunique() - df_new['user_id'].nunique()\n",
    "print(f'Пользователей потеряно: {lost_id}',\n",
    "      'или {0:.2%}'.format(lost_id / df['user_id'].nunique()))    "
   ]
  },
  {
   "cell_type": "code",
   "execution_count": 27,
   "id": "a0df41d8",
   "metadata": {},
   "outputs": [
    {
     "name": "stdout",
     "output_type": "stream",
     "text": [
      "Обновленные данные за: 6 days 21:07:49\n",
      "Количество событий: 240887\n",
      "Количество пользователей 7534\n"
     ]
    }
   ],
   "source": [
    "print('Обновленные данные за:',df_new['date_time'].max() - df_new['date_time'].min())\n",
    "print('Количество событий:', df_new.shape[0])\n",
    "print('Количество пользователей', df_new['user_id'].nunique())"
   ]
  },
  {
   "cell_type": "code",
   "execution_count": 28,
   "id": "121873e1",
   "metadata": {},
   "outputs": [
    {
     "data": {
      "image/png": "[encoded data removed]",
      "text/plain": [
       "<Figure size 900x500 with 1 Axes>"
      ]
     },
     "metadata": {},
     "output_type": "display_data"
    }
   ],
   "source": [
    "plt.figure(figsize =(9, 5))\n",
    "df_new['date_time'].hist(\n",
    "                bins=40, color='mediumaquamarine', edgecolor='black',grid=False\n",
    "                )\n",
    "plt.title('Гистограмма по дате и времени')\n",
    "plt.xlabel('Дата')\n",
    "plt.ylabel('Количество событий')\n",
    "plt.xticks(rotation=75)\n",
    "\n",
    "plt.show()"
   ]
  },
  {
   "cell_type": "markdown",
   "id": "e86aad58",
   "metadata": {},
   "source": [
    "Теперь по гистограмме хорошо видно что данные за все оставшиеся дни полные и распределены равномерно с пиками активности пользователей в дневное время."
   ]
  },
  {
   "cell_type": "markdown",
   "id": "6ac3bf64",
   "metadata": {},
   "source": [
    "<div class=\"alert alert-block alert-success\">✔️\n",
    "    \n",
    "\n",
    "__Комментарий от ревьюера №1__\n",
    "\n",
    "Да, это стандартное поведение пользоваталей\n",
    "</div>"
   ]
  },
  {
   "cell_type": "code",
   "execution_count": 29,
   "id": "2e186bcb",
   "metadata": {
    "scrolled": true
   },
   "outputs": [
    {
     "data": {
      "image/png": "[encoded data removed]",
      "text/plain": [
       "<Figure size 500x300 with 1 Axes>"
      ]
     },
     "metadata": {},
     "output_type": "display_data"
    }
   ],
   "source": [
    "plt.figure(figsize =(5, 3))\n",
    "df_new['group'].hist(\n",
    "                bins=5, color='mediumaquamarine', edgecolor='black',grid=False\n",
    "                )\n",
    "plt.title('Распределение событий по группам')\n",
    "plt.xlabel('Группа')\n",
    "plt.ylabel('Количество событий')\n",
    "\n",
    "\n",
    "plt.show()"
   ]
  },
  {
   "cell_type": "markdown",
   "id": "9ed3561b",
   "metadata": {},
   "source": [
    "Посмотрим нет ли пользователей, которые попали в несколько групп сразу"
   ]
  },
  {
   "cell_type": "code",
   "execution_count": 30,
   "id": "69eab9bf",
   "metadata": {},
   "outputs": [
    {
     "name": "stdout",
     "output_type": "stream",
     "text": [
      "Пользователей попавших в группы А и А2 одновременно: 0\n",
      "Пользователей попавших в группы А и В одновременно: 0\n",
      "Пользователей попавших в группы А2 и B одновременно: 0\n"
     ]
    }
   ],
   "source": [
    "print('Пользователей попавших в группы А и А2 одновременно:',(\n",
    "    len(np.intersect1d(df_new.query('group == \"A\"')['user_id'].unique(),\n",
    "                       df_new.query('group == \"A2\"')['user_id'].unique()))\n",
    ")\n",
    "     )\n",
    "\n",
    "print('Пользователей попавших в группы А и В одновременно:',(\n",
    "    len(np.intersect1d(df_new.query('group == \"A\"')['user_id'].unique(),\n",
    "                       df_new.query('group == \"B\"')['user_id'].unique()))\n",
    ")\n",
    "     )\n",
    "print('Пользователей попавших в группы А2 и B одновременно:',(\n",
    "    len(np.intersect1d(df_new.query('group == \"B\"')['user_id'].unique(),\n",
    "                       df_new.query('group == \"A2\"')['user_id'].unique()))\n",
    ")\n",
    "     )"
   ]
  },
  {
   "cell_type": "markdown",
   "id": "137fda42",
   "metadata": {},
   "source": [
    "**Вывод**\n",
    "* После очистки данных от старых у нас получился датасет с 240887 и 7534. Данные представлены за неделю с 1 по 7 августа включительно.\n",
    "* Было удалено 2826 событий что составляет 1.16% от общего числа и 17 пользователей это 0.23% от всех.\n",
    "* Оставшиеся данные распределены по всем группам тестирования почти равномерно.\n",
    "* Пользователи разделены по группам корректно, нет пользователей, которые присутствовали бы в нескольких сразу."
   ]
  },
  {
   "cell_type": "markdown",
   "id": "7e11bd9c",
   "metadata": {},
   "source": [
    "<div class=\"alert alert-block alert-success\">✔️\n",
    "    \n",
    "\n",
    "__Комментарий от ревьюера №1__\n",
    "\n",
    "Этот раздел сделан очень хорошо, всё правильно. Хорошо, что проверила на пересечение между группами\n",
    "</div>"
   ]
  },
  {
   "cell_type": "markdown",
   "id": "6ee130d2",
   "metadata": {},
   "source": [
    "# Анализ воронки событий"
   ]
  },
  {
   "cell_type": "markdown",
   "id": "a5c9a747",
   "metadata": {},
   "source": [
    "Посмотрим на воронку событий исходя из следующих пунктов:\n",
    "- [x] Посмотрите, какие события есть в логах, как часто они встречаются. Отсортируйте события по частоте.\n",
    "- [x] Посчитайте, сколько пользователей совершали каждое из этих событий. Отсортируйте события по числу пользователей. Посчитайте долю пользователей, которые хоть раз совершали событие.\n",
    "- [x] Предположите, в каком порядке происходят события. Все ли они выстраиваются в последовательную цепочку? Их не нужно учитывать при расчёте воронки.\n",
    "- [x] По воронке событий посчитайте, какая доля пользователей проходит на следующий шаг воронки (от числа пользователей на предыдущем). То есть для последовательности событий A → B → C посчитайте отношение числа пользователей с событием B к количеству пользователей с событием A, а также отношение числа пользователей с событием C к количеству пользователей с событием B.\n",
    "- [x] На каком шаге теряете больше всего пользователей?\n",
    "- [x] Какая доля пользователей доходит от первого события до оплаты?"
   ]
  },
  {
   "cell_type": "code",
   "execution_count": 31,
   "id": "956bdd02",
   "metadata": {},
   "outputs": [
    {
     "data": {
      "text/html": [
       "<div>\n",
       "<style scoped>\n",
       "    .dataframe tbody tr th:only-of-type {\n",
       "        vertical-align: middle;\n",
       "    }\n",
       "\n",
       "    .dataframe tbody tr th {\n",
       "        vertical-align: top;\n",
       "    }\n",
       "\n",
       "    .dataframe thead th {\n",
       "        text-align: right;\n",
       "    }\n",
       "</style>\n",
       "<table border=\"1\" class=\"dataframe\">\n",
       "  <thead>\n",
       "    <tr style=\"text-align: right;\">\n",
       "      <th></th>\n",
       "      <th>event_name</th>\n",
       "      <th>event_count</th>\n",
       "      <th>pers</th>\n",
       "    </tr>\n",
       "  </thead>\n",
       "  <tbody>\n",
       "    <tr>\n",
       "      <th>0</th>\n",
       "      <td>MainScreenAppear</td>\n",
       "      <td>117328</td>\n",
       "      <td>48.71</td>\n",
       "    </tr>\n",
       "    <tr>\n",
       "      <th>1</th>\n",
       "      <td>OffersScreenAppear</td>\n",
       "      <td>46333</td>\n",
       "      <td>19.23</td>\n",
       "    </tr>\n",
       "    <tr>\n",
       "      <th>2</th>\n",
       "      <td>CartScreenAppear</td>\n",
       "      <td>42303</td>\n",
       "      <td>17.56</td>\n",
       "    </tr>\n",
       "    <tr>\n",
       "      <th>3</th>\n",
       "      <td>PaymentScreenSuccessful</td>\n",
       "      <td>33918</td>\n",
       "      <td>14.08</td>\n",
       "    </tr>\n",
       "    <tr>\n",
       "      <th>4</th>\n",
       "      <td>Tutorial</td>\n",
       "      <td>1005</td>\n",
       "      <td>0.42</td>\n",
       "    </tr>\n",
       "  </tbody>\n",
       "</table>\n",
       "</div>"
      ],
      "text/plain": [
       "                event_name  event_count  pers\n",
       "0         MainScreenAppear       117328 48.71\n",
       "1       OffersScreenAppear        46333 19.23\n",
       "2         CartScreenAppear        42303 17.56\n",
       "3  PaymentScreenSuccessful        33918 14.08\n",
       "4                 Tutorial         1005  0.42"
      ]
     },
     "execution_count": 31,
     "metadata": {},
     "output_type": "execute_result"
    }
   ],
   "source": [
    "events = df_new['event_name'].value_counts().reset_index()\n",
    "events.columns = ['event_name', 'event_count']\n",
    "events['pers'] = events['event_count'] / events['event_count'].sum() * 100\n",
    "events"
   ]
  },
  {
   "cell_type": "code",
   "execution_count": 32,
   "id": "59f286a5",
   "metadata": {},
   "outputs": [
    {
     "data": {
      "image/png": "[encoded data removed]",
      "text/plain": [
       "<Figure size 900x500 with 1 Axes>"
      ]
     },
     "metadata": {},
     "output_type": "display_data"
    }
   ],
   "source": [
    "df_new['event_name'].hist(\n",
    "                bins=5, color='mediumaquamarine', edgecolor='black',grid=False\n",
    "                )\n",
    "plt.title('Количество событий в логах')\n",
    "plt.xlabel('Название события')\n",
    "plt.ylabel('Количество')\n",
    "\n",
    "\n",
    "plt.show()"
   ]
  },
  {
   "cell_type": "markdown",
   "id": "a640e016",
   "metadata": {},
   "source": [
    "<div class=\"alert alert-block alert-warning\">📝\n",
    "    \n",
    "\n",
    "__Комментарий от ревьюера №1__\n",
    "\n",
    "\n",
    "Неплохо было бы добавить визуализации данных\n",
    "</div>"
   ]
  },
  {
   "cell_type": "markdown",
   "id": "262bfb2a",
   "metadata": {},
   "source": [
    "Видно что в логах имеется 5 типов событий. Чаще всего просматривают основной экран, далее по количеству просмотров идут экран с предложенными товарами, корзина и экран успешной оплаты. А вот тутариал посмотрело всего 1005 раз это всего 0.42% от всех событий."
   ]
  },
  {
   "cell_type": "markdown",
   "id": "b26cd03c",
   "metadata": {},
   "source": [
    "Посмотрим теперь как распределены пользователи по событиям."
   ]
  },
  {
   "cell_type": "code",
   "execution_count": 33,
   "id": "620e4e1b",
   "metadata": {},
   "outputs": [
    {
     "data": {
      "text/html": [
       "<div>\n",
       "<style scoped>\n",
       "    .dataframe tbody tr th:only-of-type {\n",
       "        vertical-align: middle;\n",
       "    }\n",
       "\n",
       "    .dataframe tbody tr th {\n",
       "        vertical-align: top;\n",
       "    }\n",
       "\n",
       "    .dataframe thead th {\n",
       "        text-align: right;\n",
       "    }\n",
       "</style>\n",
       "<table border=\"1\" class=\"dataframe\">\n",
       "  <thead>\n",
       "    <tr style=\"text-align: right;\">\n",
       "      <th></th>\n",
       "      <th>event_name</th>\n",
       "      <th>user_count</th>\n",
       "      <th>users_share</th>\n",
       "    </tr>\n",
       "  </thead>\n",
       "  <tbody>\n",
       "    <tr>\n",
       "      <th>0</th>\n",
       "      <td>MainScreenAppear</td>\n",
       "      <td>7419</td>\n",
       "      <td>36.86</td>\n",
       "    </tr>\n",
       "    <tr>\n",
       "      <th>1</th>\n",
       "      <td>OffersScreenAppear</td>\n",
       "      <td>4593</td>\n",
       "      <td>22.82</td>\n",
       "    </tr>\n",
       "    <tr>\n",
       "      <th>2</th>\n",
       "      <td>CartScreenAppear</td>\n",
       "      <td>3734</td>\n",
       "      <td>18.55</td>\n",
       "    </tr>\n",
       "    <tr>\n",
       "      <th>3</th>\n",
       "      <td>PaymentScreenSuccessful</td>\n",
       "      <td>3539</td>\n",
       "      <td>17.59</td>\n",
       "    </tr>\n",
       "    <tr>\n",
       "      <th>4</th>\n",
       "      <td>Tutorial</td>\n",
       "      <td>840</td>\n",
       "      <td>4.17</td>\n",
       "    </tr>\n",
       "  </tbody>\n",
       "</table>\n",
       "</div>"
      ],
      "text/plain": [
       "                event_name  user_count  users_share\n",
       "0         MainScreenAppear        7419        36.86\n",
       "1       OffersScreenAppear        4593        22.82\n",
       "2         CartScreenAppear        3734        18.55\n",
       "3  PaymentScreenSuccessful        3539        17.59\n",
       "4                 Tutorial         840         4.17"
      ]
     },
     "execution_count": 33,
     "metadata": {},
     "output_type": "execute_result"
    }
   ],
   "source": [
    "users = df_new.groupby('event_name').agg({'user_id':'nunique'}).sort_values(by='user_id', ascending=False).reset_index()\n",
    "users.columns = ['event_name', 'user_count']\n",
    "users['users_share'] = users['user_count'] / users['user_count'].sum() * 100\n",
    "users"
   ]
  },
  {
   "cell_type": "markdown",
   "id": "c1b51bf0",
   "metadata": {},
   "source": [
    "Итак пользователи распределены по событиям тоже соответствующим образом. Больше всего пользователей просматривали главный экран и лишь 4.17% из них смотрели туториал. Но так как туториал не является обязательным событием и смотрят его далеко не все, из воронки его можно убрать, так как там он окажется в самом конце и будет искажать наши результаты. Все остальные события выстраиваются в логичную цепочку. Путь пользователей: *главный экран -> окно с предложением продукта -> окно оплаты -> окно удачной покупки*  \n",
    "Уберем пользователей смотревших туториал  и посмотри как они двигаются по воронке."
   ]
  },
  {
   "cell_type": "markdown",
   "id": "c542112f",
   "metadata": {},
   "source": [
    "<div class=\"alert alert-block alert-success\">✔️\n",
    "    \n",
    "\n",
    "__Комментарий от ревьюера №1__\n",
    "\n",
    "\n",
    "Воронка определена правильно! Tutotial не является частью воронки.\n",
    "</div>"
   ]
  },
  {
   "cell_type": "code",
   "execution_count": 34,
   "id": "924a5ac1",
   "metadata": {},
   "outputs": [
    {
     "data": {
      "text/html": [
       "<div>\n",
       "<style scoped>\n",
       "    .dataframe tbody tr th:only-of-type {\n",
       "        vertical-align: middle;\n",
       "    }\n",
       "\n",
       "    .dataframe tbody tr th {\n",
       "        vertical-align: top;\n",
       "    }\n",
       "\n",
       "    .dataframe thead th {\n",
       "        text-align: right;\n",
       "    }\n",
       "</style>\n",
       "<table border=\"1\" class=\"dataframe\">\n",
       "  <thead>\n",
       "    <tr style=\"text-align: right;\">\n",
       "      <th></th>\n",
       "      <th>event_name</th>\n",
       "      <th>user_count</th>\n",
       "      <th>users_share</th>\n",
       "      <th>next_share</th>\n",
       "    </tr>\n",
       "  </thead>\n",
       "  <tbody>\n",
       "    <tr>\n",
       "      <th>0</th>\n",
       "      <td>MainScreenAppear</td>\n",
       "      <td>7419</td>\n",
       "      <td>36.86</td>\n",
       "      <td>NaN</td>\n",
       "    </tr>\n",
       "    <tr>\n",
       "      <th>1</th>\n",
       "      <td>OffersScreenAppear</td>\n",
       "      <td>4593</td>\n",
       "      <td>22.82</td>\n",
       "      <td>61.91</td>\n",
       "    </tr>\n",
       "    <tr>\n",
       "      <th>2</th>\n",
       "      <td>CartScreenAppear</td>\n",
       "      <td>3734</td>\n",
       "      <td>18.55</td>\n",
       "      <td>81.30</td>\n",
       "    </tr>\n",
       "    <tr>\n",
       "      <th>3</th>\n",
       "      <td>PaymentScreenSuccessful</td>\n",
       "      <td>3539</td>\n",
       "      <td>17.59</td>\n",
       "      <td>94.78</td>\n",
       "    </tr>\n",
       "  </tbody>\n",
       "</table>\n",
       "</div>"
      ],
      "text/plain": [
       "                event_name  user_count  users_share  next_share\n",
       "0         MainScreenAppear        7419        36.86         NaN\n",
       "1       OffersScreenAppear        4593        22.82       61.91\n",
       "2         CartScreenAppear        3734        18.55       81.30\n",
       "3  PaymentScreenSuccessful        3539        17.59       94.78"
      ]
     },
     "execution_count": 34,
     "metadata": {},
     "output_type": "execute_result"
    }
   ],
   "source": [
    "users = users.query('event_name != \"Tutorial\"')\n",
    "users['next_share'] = users['user_count'] / users['user_count'].shift(1) * 100\n",
    "users"
   ]
  },
  {
   "cell_type": "markdown",
   "id": "29087f31",
   "metadata": {},
   "source": [
    "В целом пользователи двигаются по воронке очень хорошо. Больше всего отпадает на первом этапе. Из тех кто сморел главный экран почти 62% переходят н экран с предложением продукта, далее на экран оплаты попадает 81% посмотревших продукт и 94.78% перешедших к покупке удачно ее оплачивают."
   ]
  },
  {
   "cell_type": "markdown",
   "id": "4ed4ed42",
   "metadata": {},
   "source": [
    "Посмотрим еще на конверсию на каждом этапе."
   ]
  },
  {
   "cell_type": "code",
   "execution_count": 35,
   "id": "d29ac039",
   "metadata": {},
   "outputs": [
    {
     "data": {
      "text/html": [
       "<div>\n",
       "<style scoped>\n",
       "    .dataframe tbody tr th:only-of-type {\n",
       "        vertical-align: middle;\n",
       "    }\n",
       "\n",
       "    .dataframe tbody tr th {\n",
       "        vertical-align: top;\n",
       "    }\n",
       "\n",
       "    .dataframe thead th {\n",
       "        text-align: right;\n",
       "    }\n",
       "</style>\n",
       "<table border=\"1\" class=\"dataframe\">\n",
       "  <thead>\n",
       "    <tr style=\"text-align: right;\">\n",
       "      <th></th>\n",
       "      <th>event_name</th>\n",
       "      <th>user_count</th>\n",
       "      <th>users_share</th>\n",
       "      <th>next_share</th>\n",
       "      <th>conversion</th>\n",
       "    </tr>\n",
       "  </thead>\n",
       "  <tbody>\n",
       "    <tr>\n",
       "      <th>0</th>\n",
       "      <td>MainScreenAppear</td>\n",
       "      <td>7419</td>\n",
       "      <td>36.86</td>\n",
       "      <td>NaN</td>\n",
       "      <td>100.00</td>\n",
       "    </tr>\n",
       "    <tr>\n",
       "      <th>1</th>\n",
       "      <td>OffersScreenAppear</td>\n",
       "      <td>4593</td>\n",
       "      <td>22.82</td>\n",
       "      <td>61.91</td>\n",
       "      <td>61.91</td>\n",
       "    </tr>\n",
       "    <tr>\n",
       "      <th>2</th>\n",
       "      <td>CartScreenAppear</td>\n",
       "      <td>3734</td>\n",
       "      <td>18.55</td>\n",
       "      <td>81.30</td>\n",
       "      <td>50.33</td>\n",
       "    </tr>\n",
       "    <tr>\n",
       "      <th>3</th>\n",
       "      <td>PaymentScreenSuccessful</td>\n",
       "      <td>3539</td>\n",
       "      <td>17.59</td>\n",
       "      <td>94.78</td>\n",
       "      <td>47.70</td>\n",
       "    </tr>\n",
       "  </tbody>\n",
       "</table>\n",
       "</div>"
      ],
      "text/plain": [
       "                event_name  user_count  users_share  next_share  conversion\n",
       "0         MainScreenAppear        7419        36.86         NaN      100.00\n",
       "1       OffersScreenAppear        4593        22.82       61.91       61.91\n",
       "2         CartScreenAppear        3734        18.55       81.30       50.33\n",
       "3  PaymentScreenSuccessful        3539        17.59       94.78       47.70"
      ]
     },
     "execution_count": 35,
     "metadata": {},
     "output_type": "execute_result"
    }
   ],
   "source": [
    "users['conversion'] = users['user_count'] / users['user_count'].loc[users.index[0]] * 100 \n",
    "users"
   ]
  },
  {
   "cell_type": "code",
   "execution_count": 36,
   "id": "67cb6087",
   "metadata": {},
   "outputs": [
    {
     "data": {
      "image/png": "[encoded data removed]",
      "text/plain": [
       "<Figure size 1200x600 with 1 Axes>"
      ]
     },
     "metadata": {},
     "output_type": "display_data"
    }
   ],
   "source": [
    "# отрисуем воронку событий\n",
    "from matplotlib import font_manager as fm\n",
    "\n",
    "y = [4,3,2,1]\n",
    "x = round(users['conversion'],2)\n",
    "labels = users['event_name']\n",
    "x_max = 100\n",
    "x_min = 0\n",
    "x_range = x_max - x_min\n",
    "\n",
    "\n",
    "\n",
    "fig, ax = plt.subplots(1, figsize=(12,6))\n",
    "for idx, val in enumerate(x):\n",
    "    left = (x_range - val)/2\n",
    "    plt.barh(y[idx], x[idx], left = left, color='powderblue',\n",
    "             height=.8, edgecolor='black')\n",
    "    # label\n",
    "    plt.text(50, y[idx]+0.1, labels[idx], ha='center', \n",
    "              fontsize=16, color='#2A2A2A')\n",
    "    # value\n",
    "    plt.text(50, y[idx]-0.3, x[idx], ha='center',\n",
    "             fontsize=16, color='#2A2A2A')\n",
    "    #сделаем красивый переход\n",
    "    if idx != len(x)-1:\n",
    "        next_left = (x_range - x[idx+1])/2\n",
    "        shadow_x = [left, next_left, \n",
    "                    100-next_left, 100-left, left]\n",
    "        \n",
    "        shadow_y = [y[idx]-0.4, y[idx+1]+0.4, \n",
    "                    y[idx+1]+0.4, y[idx]-0.4, y[idx]-0.4]\n",
    "        plt.fill(shadow_x, shadow_y, color='mediumaquamarine', alpha=0.6)\n",
    "plt.xlim(x_min, x_max)\n",
    "plt.axis('off')\n",
    "plt.title('Воронка событий', loc='center', fontsize=24, color='#2A2A2A')\n",
    "plt.show()"
   ]
  },
  {
   "cell_type": "markdown",
   "id": "378011de",
   "metadata": {},
   "source": [
    "**Вывод** По воронке хорошо видно, что от просмотра главного экрана события до удачной оплаты доходит 47.7% пользователей. Как и говорилось до этого больше всего пользователей \"отваливается\" на первом этапе после чего конверсия по шагам весьма хорошая. В целом почти половина пришедших в приложение совершает удачную покупку, результат очень даже хороший. Но стоит обратить внимание на то, почему теряется 5% пользователей на последнем этапе. То есть тех кто перешел на экран оплаты, но почему-то не закончил ее успешно. Возможно пользовтеле просто передумали, но и не исключено, что на этом этапе где-то закралась ошибка."
   ]
  },
  {
   "cell_type": "markdown",
   "id": "0b6d4630",
   "metadata": {},
   "source": [
    "<div class=\"alert alert-block alert-success\">✔️\n",
    "    \n",
    "\n",
    "__Комментарий от ревьюера №1__\n",
    "\n",
    "Согласен с рузультатами, может быть такое, что данные показывают, что большая часть пользователей отсекается между первым и вторым шагом, т.е. между заходом в приложение и добавлением товара в корзину. Может посетителей не устроили цены, а может есть проблемы с отображением кнопки для добавления товара в корзину. Нужно написать разработчикам, пусть проверят\n",
    "</div>"
   ]
  },
  {
   "cell_type": "markdown",
   "id": "17236a25",
   "metadata": {},
   "source": [
    "# Анализ А/А/В теста"
   ]
  },
  {
   "cell_type": "markdown",
   "id": "b258237a",
   "metadata": {},
   "source": [
    "Теперь перейдем к анализу результатов тестирования:\n",
    "- [x] Сколько пользователей в каждой экспериментальной группе?\n",
    "- [x] Есть 2 контрольные группы для А/А-эксперимента, чтобы проверить корректность всех механизмов и расчётов. Проверьте, находят ли статистические критерии разницу между выборками 246 и 247.\n",
    "- [x] Выберите самое популярное событие. Посчитайте число пользователей, совершивших это событие в каждой из контрольных групп. Посчитайте долю пользователей, совершивших это событие. Проверьте, будет ли отличие между группами статистически достоверным. Проделайте то же самое для всех других событий (удобно обернуть проверку в отдельную функцию). Можно ли сказать, что разбиение на группы работает корректно?\n",
    "- [x] Аналогично поступите с группой с изменённым шрифтом. Сравните результаты с каждой из контрольных групп в отдельности по каждому событию. Сравните результаты с объединённой контрольной группой. Какие выводы из эксперимента можно сделать?\n",
    "- [x] Какой уровень значимости вы выбрали при проверке статистических гипотез выше? Посчитайте, сколько проверок статистических гипотез вы сделали. При уровне значимости 0.1 каждый десятый раз можно получать ложный результат. Какой уровень значимости стоит применить? Если вы хотите изменить его, проделайте предыдущие пункты и проверьте свои выводы."
   ]
  },
  {
   "cell_type": "code",
   "execution_count": 37,
   "id": "49437680",
   "metadata": {
    "scrolled": true
   },
   "outputs": [
    {
     "data": {
      "text/html": [
       "<div>\n",
       "<style scoped>\n",
       "    .dataframe tbody tr th:only-of-type {\n",
       "        vertical-align: middle;\n",
       "    }\n",
       "\n",
       "    .dataframe tbody tr th {\n",
       "        vertical-align: top;\n",
       "    }\n",
       "\n",
       "    .dataframe thead th {\n",
       "        text-align: right;\n",
       "    }\n",
       "</style>\n",
       "<table border=\"1\" class=\"dataframe\">\n",
       "  <thead>\n",
       "    <tr style=\"text-align: right;\">\n",
       "      <th></th>\n",
       "      <th>user_count</th>\n",
       "    </tr>\n",
       "    <tr>\n",
       "      <th>group</th>\n",
       "      <th></th>\n",
       "    </tr>\n",
       "  </thead>\n",
       "  <tbody>\n",
       "    <tr>\n",
       "      <th>A</th>\n",
       "      <td>2484</td>\n",
       "    </tr>\n",
       "    <tr>\n",
       "      <th>A2</th>\n",
       "      <td>2513</td>\n",
       "    </tr>\n",
       "    <tr>\n",
       "      <th>B</th>\n",
       "      <td>2537</td>\n",
       "    </tr>\n",
       "    <tr>\n",
       "      <th>A+A2</th>\n",
       "      <td>4997</td>\n",
       "    </tr>\n",
       "  </tbody>\n",
       "</table>\n",
       "</div>"
      ],
      "text/plain": [
       "       user_count\n",
       "group            \n",
       "A            2484\n",
       "A2           2513\n",
       "B            2537\n",
       "A+A2         4997"
      ]
     },
     "execution_count": 37,
     "metadata": {},
     "output_type": "execute_result"
    }
   ],
   "source": [
    "#найдем количество пользователей в каждой группе\n",
    "users_group = df_new.groupby('group').agg({'user_id':'nunique'}).reset_index()\n",
    "# и добавим столбец с совмещенными группами А теста\n",
    "users_group.loc[3] = ['A+A2', users_group['user_id'].loc[users.index[0]] + users_group['user_id'].loc[users.index[1]]]\n",
    "users_group.columns = ['group', 'user_count']\n",
    "users_group = users_group.set_index(users_group.columns[0])\n",
    "users_group"
   ]
  },
  {
   "cell_type": "markdown",
   "id": "4198e7f8",
   "metadata": {},
   "source": [
    "В каждой из тестируемых групп у нас +-2500 пользователей. Как мы уже выясняли все пользователи в каждой группе уникальны. Попавших более чем в одну группу нет."
   ]
  },
  {
   "cell_type": "markdown",
   "id": "5b87d43d",
   "metadata": {},
   "source": []
  },
  {
   "cell_type": "markdown",
   "id": "55f7565d",
   "metadata": {},
   "source": [
    "## Провевка А/А теста"
   ]
  },
  {
   "cell_type": "markdown",
   "id": "3ddffc87",
   "metadata": {},
   "source": [
    "Критерии успешного A/A-теста: \n",
    "* Количество пользователей в различных группах различается не более, чем на 1%;\n",
    "* Для всех групп фиксируют и отправляют в системы аналитики данные об одном и том же;\n",
    "* Различие ключевых метрик по группам не превышает 1% и не имеет статистической значимости;\n",
    "* Попавший в одну из групп посетитель остаётся в этой группе до конца теста. Если пользователь видит разные версии исследуемой страницы в ходе одного исследования, неизвестно, какая именно повлияла на его решения. Значит, и результаты такого теста нельзя интерпретировать однозначно."
   ]
  },
  {
   "cell_type": "markdown",
   "id": "c6407914",
   "metadata": {},
   "source": [
    "Посмотрим на соотношенем пользователей"
   ]
  },
  {
   "cell_type": "code",
   "execution_count": 38,
   "id": "54b3da42",
   "metadata": {},
   "outputs": [],
   "source": [
    "x = (\n",
    "    (1 - (df_new.query('group ==\"A\"')['user_id'].nunique() /\n",
    "    df_new.query('group ==\"A2\"')['user_id'].nunique())) * 100\n",
    "\n",
    ") "
   ]
  },
  {
   "cell_type": "code",
   "execution_count": 39,
   "id": "c17e2fd5",
   "metadata": {},
   "outputs": [
    {
     "name": "stdout",
     "output_type": "stream",
     "text": [
      "Количество пользователей в группах отличается на 1.15 %\n"
     ]
    }
   ],
   "source": [
    "print('Количество пользователей в группах отличается на', round(x,2),'%')"
   ]
  },
  {
   "cell_type": "markdown",
   "id": "62bba3d7",
   "metadata": {},
   "source": [
    "Раздница между количеством пользователей чуть больше 1%, но значение не критично."
   ]
  },
  {
   "cell_type": "markdown",
   "id": "bc53a8df",
   "metadata": {},
   "source": [
    "<div class=\"alert alert-block alert-warning\">📝\n",
    "    \n",
    "\n",
    "__Комментарий от тимлида №1__\n",
    "\n",
    "Равный размер групп дает оптимальную длительность теста, но, вообще, группы просто должны быть достаточно большими и не обязательно равными.\n",
    "    \n",
    "---\n",
    "    \n",
    "Вот здесь подробно расписано, что не все так страшно в несбалансированных выборках\n",
    "    \n",
    "https://medium.com/statistics-experiments/%D0%B4%D0%B8%D1%81%D0%B1%D0%B0%D0%BB%D0%B0%D0%BD%D1%81-%D0%B2-a-b-%D1%82%D0%B5%D1%81%D1%82%D0%B0%D1%85-%D0%B5%D1%81%D1%82%D1%8C-%D0%BB%D0%B8-%D1%80%D0%B0%D0%B7%D0%BD%D0%B8%D1%86%D0%B0-%D0%BC%D0%B5%D0%B6%D0%B4%D1%83-99-1-%D0%B8-50-50-%D0%B2-%D1%8D%D0%BA%D1%81%D0%BF%D0%B5%D1%80%D0%B8%D0%BC%D0%B5%D0%BD%D1%82%D0%B0%D1%85-11c8f4fe7eb4\n",
    "</div>"
   ]
  },
  {
   "cell_type": "code",
   "execution_count": 40,
   "id": "ef2fbcb8",
   "metadata": {},
   "outputs": [
    {
     "data": {
      "text/html": [
       "<div>\n",
       "<style scoped>\n",
       "    .dataframe tbody tr th:only-of-type {\n",
       "        vertical-align: middle;\n",
       "    }\n",
       "\n",
       "    .dataframe tbody tr th {\n",
       "        vertical-align: top;\n",
       "    }\n",
       "\n",
       "    .dataframe thead th {\n",
       "        text-align: right;\n",
       "    }\n",
       "</style>\n",
       "<table border=\"1\" class=\"dataframe\">\n",
       "  <thead>\n",
       "    <tr style=\"text-align: right;\">\n",
       "      <th></th>\n",
       "      <th></th>\n",
       "      <th>user_id</th>\n",
       "    </tr>\n",
       "    <tr>\n",
       "      <th>group</th>\n",
       "      <th>event_name</th>\n",
       "      <th></th>\n",
       "    </tr>\n",
       "  </thead>\n",
       "  <tbody>\n",
       "    <tr>\n",
       "      <th rowspan=\"4\" valign=\"top\">A</th>\n",
       "      <th>CartScreenAppear</th>\n",
       "      <td>1266</td>\n",
       "    </tr>\n",
       "    <tr>\n",
       "      <th>MainScreenAppear</th>\n",
       "      <td>2450</td>\n",
       "    </tr>\n",
       "    <tr>\n",
       "      <th>OffersScreenAppear</th>\n",
       "      <td>1542</td>\n",
       "    </tr>\n",
       "    <tr>\n",
       "      <th>PaymentScreenSuccessful</th>\n",
       "      <td>1200</td>\n",
       "    </tr>\n",
       "    <tr>\n",
       "      <th rowspan=\"4\" valign=\"top\">A2</th>\n",
       "      <th>CartScreenAppear</th>\n",
       "      <td>1238</td>\n",
       "    </tr>\n",
       "    <tr>\n",
       "      <th>MainScreenAppear</th>\n",
       "      <td>2476</td>\n",
       "    </tr>\n",
       "    <tr>\n",
       "      <th>OffersScreenAppear</th>\n",
       "      <td>1520</td>\n",
       "    </tr>\n",
       "    <tr>\n",
       "      <th>PaymentScreenSuccessful</th>\n",
       "      <td>1158</td>\n",
       "    </tr>\n",
       "    <tr>\n",
       "      <th rowspan=\"4\" valign=\"top\">B</th>\n",
       "      <th>CartScreenAppear</th>\n",
       "      <td>1230</td>\n",
       "    </tr>\n",
       "    <tr>\n",
       "      <th>MainScreenAppear</th>\n",
       "      <td>2493</td>\n",
       "    </tr>\n",
       "    <tr>\n",
       "      <th>OffersScreenAppear</th>\n",
       "      <td>1531</td>\n",
       "    </tr>\n",
       "    <tr>\n",
       "      <th>PaymentScreenSuccessful</th>\n",
       "      <td>1181</td>\n",
       "    </tr>\n",
       "  </tbody>\n",
       "</table>\n",
       "</div>"
      ],
      "text/plain": [
       "                               user_id\n",
       "group event_name                      \n",
       "A     CartScreenAppear            1266\n",
       "      MainScreenAppear            2450\n",
       "      OffersScreenAppear          1542\n",
       "      PaymentScreenSuccessful     1200\n",
       "A2    CartScreenAppear            1238\n",
       "      MainScreenAppear            2476\n",
       "      OffersScreenAppear          1520\n",
       "      PaymentScreenSuccessful     1158\n",
       "B     CartScreenAppear            1230\n",
       "      MainScreenAppear            2493\n",
       "      OffersScreenAppear          1531\n",
       "      PaymentScreenSuccessful     1181"
      ]
     },
     "execution_count": 40,
     "metadata": {},
     "output_type": "execute_result"
    }
   ],
   "source": [
    "df_new.query('event_name != \"Tutorial\"').groupby(['group', 'event_name']).agg({'user_id':'nunique'})"
   ]
  },
  {
   "cell_type": "markdown",
   "id": "8e262e97",
   "metadata": {},
   "source": [
    "Во всех группах пользователи совершают одни и те же события, тут все корректно. "
   ]
  },
  {
   "cell_type": "markdown",
   "id": "0d4a3212",
   "metadata": {},
   "source": [
    "Посмотрим есть ли статистические различия между группами по самому популярному событию, то есть просмотру главного экрана. Сформулируем гипотезы, воспользуемся z-критерием и применим метод Бонферрони (поправка Бонферрони), так как проводим множественное сравнение.\n",
    "\n",
    "* **Н0** Различий между группами A и А1 нет.\n",
    "* **Н1** Раздичия между группами А и А1 есть."
   ]
  },
  {
   "cell_type": "markdown",
   "id": "0e379e61",
   "metadata": {},
   "source": [
    "<div class=\"alert alert-block alert-success\">✔️\n",
    "    \n",
    "\n",
    "__Комментарий от ревьюера №1__\n",
    "\n",
    "Верная интерпритация нулевой и альтернативной гипотез\n",
    "</div>"
   ]
  },
  {
   "cell_type": "code",
   "execution_count": 41,
   "id": "18a2d16c",
   "metadata": {},
   "outputs": [
    {
     "data": {
      "text/html": [
       "<div>\n",
       "<style scoped>\n",
       "    .dataframe tbody tr th:only-of-type {\n",
       "        vertical-align: middle;\n",
       "    }\n",
       "\n",
       "    .dataframe tbody tr th {\n",
       "        vertical-align: top;\n",
       "    }\n",
       "\n",
       "    .dataframe thead th {\n",
       "        text-align: right;\n",
       "    }\n",
       "</style>\n",
       "<table border=\"1\" class=\"dataframe\">\n",
       "  <thead>\n",
       "    <tr style=\"text-align: right;\">\n",
       "      <th>group</th>\n",
       "      <th>A</th>\n",
       "      <th>A2</th>\n",
       "      <th>B</th>\n",
       "      <th>A+A2</th>\n",
       "    </tr>\n",
       "    <tr>\n",
       "      <th>event_name</th>\n",
       "      <th></th>\n",
       "      <th></th>\n",
       "      <th></th>\n",
       "      <th></th>\n",
       "    </tr>\n",
       "  </thead>\n",
       "  <tbody>\n",
       "    <tr>\n",
       "      <th>MainScreenAppear</th>\n",
       "      <td>2450</td>\n",
       "      <td>2476</td>\n",
       "      <td>2493</td>\n",
       "      <td>4926</td>\n",
       "    </tr>\n",
       "    <tr>\n",
       "      <th>OffersScreenAppear</th>\n",
       "      <td>1542</td>\n",
       "      <td>1520</td>\n",
       "      <td>1531</td>\n",
       "      <td>3062</td>\n",
       "    </tr>\n",
       "    <tr>\n",
       "      <th>CartScreenAppear</th>\n",
       "      <td>1266</td>\n",
       "      <td>1238</td>\n",
       "      <td>1230</td>\n",
       "      <td>2504</td>\n",
       "    </tr>\n",
       "    <tr>\n",
       "      <th>PaymentScreenSuccessful</th>\n",
       "      <td>1200</td>\n",
       "      <td>1158</td>\n",
       "      <td>1181</td>\n",
       "      <td>2358</td>\n",
       "    </tr>\n",
       "  </tbody>\n",
       "</table>\n",
       "</div>"
      ],
      "text/plain": [
       "group                       A    A2     B  A+A2\n",
       "event_name                                     \n",
       "MainScreenAppear         2450  2476  2493  4926\n",
       "OffersScreenAppear       1542  1520  1531  3062\n",
       "CartScreenAppear         1266  1238  1230  2504\n",
       "PaymentScreenSuccessful  1200  1158  1181  2358"
      ]
     },
     "execution_count": 41,
     "metadata": {},
     "output_type": "execute_result"
    }
   ],
   "source": [
    "df_pv = (\n",
    "    df_new.query('event_name != \"Tutorial\"')\n",
    "    .pivot_table(index='event_name', columns='group', values='user_id', aggfunc='nunique')\n",
    "    .sort_values('A', ascending=False)\n",
    ")\n",
    "df_pv['A+A2'] = df_pv['A'] + df_pv['A2']\n",
    "df_pv"
   ]
  },
  {
   "cell_type": "code",
   "execution_count": 42,
   "id": "d3a7fdbd",
   "metadata": {},
   "outputs": [],
   "source": [
    "# напишим функцию для проверки\n",
    "# Воспользуемся Z-критерием\n",
    "def z_test(group1, group2, event, alpha): \n",
    "    p1_event = df_pv.loc[event, group1]\n",
    "    p2_event = df_pv.loc[event, group2] \n",
    "    p1_users = users_group.loc[group1, 'user_count'] \n",
    "    p2_users = users_group.loc[group2, 'user_count'] \n",
    "    p1 = p1_event / p1_users \n",
    "    p2 = p2_event / p2_users \n",
    "    print(p1_event,p2_event ,p1_users, p2_users)\n",
    "    difference = p1 - p2\n",
    "    p_combined = (p1_event + p2_event) / (p1_users + p2_users) \n",
    "    z_value = difference / mth.sqrt(p_combined * (1 - p_combined) * (1 / p1_users + 1 / p2_users))\n",
    "    distr = st.norm(0, 1)\n",
    "    p_value = (1 - distr.cdf(abs(z_value))) * 2\n",
    "    \n",
    "   \n",
    "    print('Проверка для групп {} и {}, событие: {}, p-значение: {p_value:.2f}'.format(group1, group2, event, p_value=p_value))\n",
    "    if (p_value < alpha):\n",
    "        print(\"Отвергаем нулевую гипотезу о равенстве конверсии в группах\")\n",
    "    else:\n",
    "        print(\"Не получилось отвергнуть нулевую гипотезу о равенстве конверсии в группах\")"
   ]
  },
  {
   "cell_type": "code",
   "execution_count": 43,
   "id": "5e5347a3",
   "metadata": {},
   "outputs": [
    {
     "name": "stdout",
     "output_type": "stream",
     "text": [
      "2450 2476 2484 2513\n",
      "Проверка для групп A и A2, событие: MainScreenAppear, p-значение: 0.76\n",
      "Не получилось отвергнуть нулевую гипотезу о равенстве конверсии в группах\n"
     ]
    }
   ],
   "source": [
    "z_test('A','A2','MainScreenAppear', 0.05/16)"
   ]
  },
  {
   "cell_type": "markdown",
   "id": "51cd9adc",
   "metadata": {},
   "source": [
    "В случае с главных событием не удается отвергнуть нулевую гипотезу. Следовательно различий между группами по самому популярному событию нет. Пройдемся теперь по остальным событиям."
   ]
  },
  {
   "cell_type": "code",
   "execution_count": 44,
   "id": "975f1dbe",
   "metadata": {},
   "outputs": [
    {
     "name": "stdout",
     "output_type": "stream",
     "text": [
      "2450 2476 2484 2513\n",
      "Проверка для групп A и A2, событие: MainScreenAppear, p-значение: 0.76\n",
      "Не получилось отвергнуть нулевую гипотезу о равенстве конверсии в группах\n",
      "\n",
      "1542 1520 2484 2513\n",
      "Проверка для групп A и A2, событие: OffersScreenAppear, p-значение: 0.25\n",
      "Не получилось отвергнуть нулевую гипотезу о равенстве конверсии в группах\n",
      "\n",
      "1266 1238 2484 2513\n",
      "Проверка для групп A и A2, событие: CartScreenAppear, p-значение: 0.23\n",
      "Не получилось отвергнуть нулевую гипотезу о равенстве конверсии в группах\n",
      "\n",
      "1200 1158 2484 2513\n",
      "Проверка для групп A и A2, событие: PaymentScreenSuccessful, p-значение: 0.11\n",
      "Не получилось отвергнуть нулевую гипотезу о равенстве конверсии в группах\n",
      "\n"
     ]
    }
   ],
   "source": [
    "for event in df_pv.index:\n",
    "    z_test('A', 'A2', event, 0.05/16)\n",
    "    print()"
   ]
  },
  {
   "cell_type": "markdown",
   "id": "347baae0",
   "metadata": {},
   "source": [
    "**Вывод** Между группами А/А теста разницы нету. A/A тест по всем критериям можно считать успешным."
   ]
  },
  {
   "cell_type": "markdown",
   "id": "6d889172",
   "metadata": {},
   "source": [
    "## Проверка A/A/B теста"
   ]
  },
  {
   "cell_type": "markdown",
   "id": "dc6f806e",
   "metadata": {},
   "source": [
    "Посмотрим теперь на различия между группой с измененным дизайном (B) и всеми остальными. Для этого сформулируем ряд гипотез."
   ]
  },
  {
   "cell_type": "markdown",
   "id": "2571816e",
   "metadata": {},
   "source": [
    "* **Н0** различия между группами А и В по  событиям нет.\n",
    "* **Н1** различия между А и В по событиям есть."
   ]
  },
  {
   "cell_type": "code",
   "execution_count": 45,
   "id": "af3e3d1f",
   "metadata": {},
   "outputs": [
    {
     "name": "stdout",
     "output_type": "stream",
     "text": [
      "2450 2493 2484 2537\n",
      "Проверка для групп A и B, событие: MainScreenAppear, p-значение: 0.29\n",
      "Не получилось отвергнуть нулевую гипотезу о равенстве конверсии в группах\n",
      "\n",
      "1542 1531 2484 2537\n",
      "Проверка для групп A и B, событие: OffersScreenAppear, p-значение: 0.21\n",
      "Не получилось отвергнуть нулевую гипотезу о равенстве конверсии в группах\n",
      "\n",
      "1266 1230 2484 2537\n",
      "Проверка для групп A и B, событие: CartScreenAppear, p-значение: 0.08\n",
      "Не получилось отвергнуть нулевую гипотезу о равенстве конверсии в группах\n",
      "\n",
      "1200 1181 2484 2537\n",
      "Проверка для групп A и B, событие: PaymentScreenSuccessful, p-значение: 0.21\n",
      "Не получилось отвергнуть нулевую гипотезу о равенстве конверсии в группах\n",
      "\n"
     ]
    }
   ],
   "source": [
    "for event in df_pv.index:\n",
    "    z_test('A', 'B', event, 0.05/16)\n",
    "    print()"
   ]
  },
  {
   "cell_type": "markdown",
   "id": "868a547e",
   "metadata": {},
   "source": [
    "**Вывод** p-value во всех выборках больше критического уровня значимости. Следовательно у нас нет оснований отвергать нулевую гипотезу. Между группами А и В так же нет различий ни по одному из событий. "
   ]
  },
  {
   "cell_type": "markdown",
   "id": "27e5bcde",
   "metadata": {},
   "source": [
    "* **Н0** различия между группами А и В по  событиям нет.\n",
    "* **Н1** различия между А2 и В по событиям есть."
   ]
  },
  {
   "cell_type": "code",
   "execution_count": 46,
   "id": "39934de9",
   "metadata": {},
   "outputs": [
    {
     "name": "stdout",
     "output_type": "stream",
     "text": [
      "2476 2493 2513 2537\n",
      "Проверка для групп A2 и B, событие: MainScreenAppear, p-значение: 0.46\n",
      "Не получилось отвергнуть нулевую гипотезу о равенстве конверсии в группах\n",
      "\n",
      "1520 1531 2513 2537\n",
      "Проверка для групп A2 и B, событие: OffersScreenAppear, p-значение: 0.92\n",
      "Не получилось отвергнуть нулевую гипотезу о равенстве конверсии в группах\n",
      "\n",
      "1238 1230 2513 2537\n",
      "Проверка для групп A2 и B, событие: CartScreenAppear, p-значение: 0.58\n",
      "Не получилось отвергнуть нулевую гипотезу о равенстве конверсии в группах\n",
      "\n",
      "1158 1181 2513 2537\n",
      "Проверка для групп A2 и B, событие: PaymentScreenSuccessful, p-значение: 0.74\n",
      "Не получилось отвергнуть нулевую гипотезу о равенстве конверсии в группах\n",
      "\n"
     ]
    }
   ],
   "source": [
    "for event in df_pv.index:\n",
    "    z_test('A2', 'B', event, 0.05/16)\n",
    "    print()"
   ]
  },
  {
   "cell_type": "markdown",
   "id": "d8e66cec",
   "metadata": {},
   "source": [
    "**Вывод** Между группами А2 и В тоже нет различий ни по одному из событий. "
   ]
  },
  {
   "cell_type": "markdown",
   "id": "03167542",
   "metadata": {},
   "source": [
    "* **Н0** различия между группами А и В по  событиям нет.\n",
    "* **Н1** различия между А+А2 и В по событиям есть."
   ]
  },
  {
   "cell_type": "code",
   "execution_count": 47,
   "id": "c80e47a3",
   "metadata": {},
   "outputs": [
    {
     "name": "stdout",
     "output_type": "stream",
     "text": [
      "4926 2493 4997 2537\n",
      "Проверка для групп A+A2 и B, событие: MainScreenAppear, p-значение: 0.29\n",
      "Не получилось отвергнуть нулевую гипотезу о равенстве конверсии в группах\n",
      "\n",
      "3062 1531 4997 2537\n",
      "Проверка для групп A+A2 и B, событие: OffersScreenAppear, p-значение: 0.43\n",
      "Не получилось отвергнуть нулевую гипотезу о равенстве конверсии в группах\n",
      "\n",
      "2504 1230 4997 2537\n",
      "Проверка для групп A+A2 и B, событие: CartScreenAppear, p-значение: 0.18\n",
      "Не получилось отвергнуть нулевую гипотезу о равенстве конверсии в группах\n",
      "\n",
      "2358 1181 4997 2537\n",
      "Проверка для групп A+A2 и B, событие: PaymentScreenSuccessful, p-значение: 0.60\n",
      "Не получилось отвергнуть нулевую гипотезу о равенстве конверсии в группах\n",
      "\n"
     ]
    }
   ],
   "source": [
    "for event in df_pv.index:\n",
    "    z_test('A+A2', 'B', event, 0.05/16)\n",
    "    print()"
   ]
  },
  {
   "cell_type": "markdown",
   "id": "1fe325f7",
   "metadata": {},
   "source": [
    "**Вывод** И снова разницы между группами мы не видим.  \n",
    "Не удолос отвергнуть ни одну из поставленнных гипотез. Следовательно статистически значимых различий между каждой из проверенных пар выборок нет. "
   ]
  },
  {
   "cell_type": "markdown",
   "id": "326fbe0f",
   "metadata": {},
   "source": [
    "**Поправки на уровень значимости**  \n",
    "Так как у нас были множественные тесты мы воспользовались поправками Бонферрони, где уровень узачимости расчитывается как альфа деленая на число проверяемых гипотез.  \n",
    "Поэтому для нашего A/A/В теста мы установили уровеньзначимости 0.05/16, так как делаем 16 сравнений , где 0.05 это стандартный критический уровень значимости."
   ]
  },
  {
   "cell_type": "markdown",
   "id": "306d348a",
   "metadata": {},
   "source": [
    "**Вывод** Видимо изменение шрифта никак не повлияло на действия пользователей.\n",
    " Плохо это или хорошо может зависить от дальшейших планов и от того каких собственно действий ожидали от эксперимента. Если это лишь начальная стадия изменения дизайна, то результат уже будет позитивным от того, что пользователи не отваливаются на этом этапе и можно переходить к более серьезным изменениям. Если же только на этих изменениях планировалось привлечь больше пользователей, то это не удалось. Но в целом менеджерам уже можно не переживать что изменения шрифта скажутся плохо."
   ]
  },
  {
   "cell_type": "markdown",
   "id": "0adcce8f",
   "metadata": {},
   "source": [
    "# Общие выводы"
   ]
  },
  {
   "attachments": {
    "image.png": {
     "image/png": "[encoded data removed]"
    }
   },
   "cell_type": "markdown",
   "id": "500d1a9d",
   "metadata": {},
   "source": [
    "В данной работе целью являлось изучение поведения пользователей в приложении по продаже продуктов питания. Анализ воронки событий и изучение результатов проведенного А/А/В тестирования (Смена шрифта во всех приложении). По итогу можно сделать следующие выводы:\n",
    "* Данные были предоставлены с 25.07.2019 по 08.08.2019 но часть данных была не полной и устаревшей. Поэтоиу после удаления мы получили рабочие данные за неделю с 01.08.2019 по 08.08.2019.\n",
    "* На этапе предобработки в данных были найдены и удалены дубликаты а так же после обнаружения старых дат удалены и они всего мы потеряли чуть более 1% исходных данных.\n",
    "* Были изучены поведение пользователей. И обнаружилось что в средней человек совершает около 20-30 действий в приложении. Этого вполне достаточно что бы собрать и успешно совершить покупку. Однако большая чать совершает лишь одно действие возможно как то можно повлиятб на таких пользователей что бы главный экран у них вызывал больше интереса и они переходили дальше.\n",
    "* Были изучены все события  в логе и установлено, что меньше всего люди смотрят туториал, большинство его видимо просто игнорируют. Но и в принципе многие люди надеяться на свою интуицию и что сами разберуться как пользоваться продуктом. Так что эта страница не обязательная и из воронки мы ее исключили, иначебы она искажала результаты. Но в малом количестве просмотров есть и вероятность того, что переход и открытие туториала плохо заметно. Может стоит обратить на это внимание.\n",
    "* По воронке событий мы видим, что большинство пользователей отваливается на начальном этапе. До просмотра товаров доходит больше половины, но на этом этапе часто отсеивается большинство просто в принципе не заинтересованных в продукте либо бользователи могут сразу открывать страницу с каталогом товаров минуя главную. Успешную покупку совершает чуть меньше половины от всех пользователей. Но вот на этапе оплаты отваливается несколько процентов, возможно стоит обратить внимание, нет ли какой то ошибки в этой форме страницы связанной с невозможностью оплаты например в определенного девайса.\n",
    "![image.png](attachment:image.png)\n",
    "\n",
    "* По проведенному тестированию можно сделать выводы, что изменение шрифта никак не повлияло на поведение пользователей. То есть основная его цель, убедиться что пользователи не будут \"отваливаться\" из за изменений достигнута."
   ]
  },
  {
   "cell_type": "markdown",
   "id": "1d223978",
   "metadata": {},
   "source": [
    "<div class=\"alert alert-block alert-success\">✔️\n",
    "    \n",
    "\n",
    "__Комментарий от ревьюера №1__\n",
    "\n",
    "Шикарный вывод и рекомендации для бизнеса. Кстати, хорошей практикой является написание в общем выводе всех твоих действий (кратко) по проекту. Ведь вывод раскрывает для заказчика всю твою проделанную работу и за что он платит деньги, даже если ему не интересен весь процесс исследования, то в отчёт он заглянет обязательно. Ты молодец!\n",
    "</div>"
   ]
  },
  {
   "cell_type": "markdown",
   "id": "58121f19",
   "metadata": {},
   "source": []
  },
  {
   "cell_type": "markdown",
   "id": "3d6f183f",
   "metadata": {},
   "source": []
  },
  {
   "cell_type": "markdown",
   "id": "96df3315",
   "metadata": {},
   "source": [
    "<div class=\"alert alert-block alert-warning\">📝\n",
    "Комментарий от ревьюера №1 </b> \n",
    "\n",
    "---\n",
    "\n",
    "У тебя получилась очень сильная и хорошая работа. Здорово, что расчеты ты сопровождаешь иллюстрациями, а так же не забываешь про комментарии, твой проект интересно проверять. \n",
    "\n",
    "---\n",
    "\n",
    "Нужно поправить:\n",
    "\n",
    "1) Поправка Бонферрони\n",
    "\n",
    "\n",
    "---\n",
    "\n",
    "\n",
    "Если у тебя будут какие-то вопросы по моим комментариям - обязательно пиши! Буду ждать работу на повторное ревью :)</div>"
   ]
  },
  {
   "cell_type": "markdown",
   "id": "7418fbdd",
   "metadata": {},
   "source": [
    "<div class=\"alert alert-block alert-success\">✔️\n",
    "    \n",
    "\n",
    "__Комментарий от тимлида №2__\n",
    "\n",
    "От себя хочу порекомендовать тебе отличные источники про AB тестирование\n",
    "    \n",
    "- Книга Доверительное A/B тестирование | Рон Кохави (https://dmkpress.com/catalog/computer/software_development/978-5-97060-913-2/)\n",
    "- Как устроено A/B-тестирование в Авито (https://habr.com/ru/company/avito/blog/454164/)\n",
    "- Как улучшить ваши A/B-тесты: лайфхаки аналитиков Авито. Часть 1 (https://habr.com/ru/company/avito/blog/571094/)\n",
    "- Как улучшить ваши A/B-тесты: лайфхаки аналитиков Авито. Часть 2 (https://habr.com/ru/company/avito/blog/571096/)\n",
    "    \n",
    "---\n",
    "    \n",
    "\n",
    "В остальном всё чудно😊. Твой проект так и просится на github =)   \n",
    "    \n",
    "Поздравляю с успешным завершением проекта 😊👍\n",
    "И желаю успехов на SQL 😊\n",
    "</div>"
   ]
  },
  {
   "cell_type": "code",
   "execution_count": null,
   "id": "e9fca5b3",
   "metadata": {},
   "outputs": [],
   "source": []
  }
 ],
 "metadata": {
  "ExecuteTimeLog": [
   {
    "duration": 1078,
    "start_time": "2023-03-09T12:41:17.567Z"
   },
   {
    "duration": 4,
    "start_time": "2023-03-09T12:41:18.647Z"
   },
   {
    "duration": 523,
    "start_time": "2023-03-09T12:41:18.652Z"
   },
   {
    "duration": 3,
    "start_time": "2023-03-09T12:41:19.177Z"
   },
   {
    "duration": 86,
    "start_time": "2023-03-09T12:41:19.181Z"
   },
   {
    "duration": 11,
    "start_time": "2023-03-09T12:41:19.269Z"
   },
   {
    "duration": 4,
    "start_time": "2023-03-09T12:41:19.282Z"
   },
   {
    "duration": 20,
    "start_time": "2023-03-09T12:41:19.287Z"
   },
   {
    "duration": 98,
    "start_time": "2023-03-09T12:41:19.308Z"
   },
   {
    "duration": 3,
    "start_time": "2023-03-09T12:41:19.408Z"
   },
   {
    "duration": 3135,
    "start_time": "2023-03-09T12:41:19.412Z"
   },
   {
    "duration": 139,
    "start_time": "2023-03-09T12:41:22.549Z"
   },
   {
    "duration": 44,
    "start_time": "2023-03-09T12:41:22.689Z"
   },
   {
    "duration": 7,
    "start_time": "2023-03-09T12:41:22.734Z"
   },
   {
    "duration": 17,
    "start_time": "2023-03-09T12:41:22.743Z"
   },
   {
    "duration": 19,
    "start_time": "2023-03-09T12:41:22.762Z"
   },
   {
    "duration": 11,
    "start_time": "2023-03-09T12:41:22.783Z"
   },
   {
    "duration": 26,
    "start_time": "2023-03-09T12:41:22.795Z"
   },
   {
    "duration": 418,
    "start_time": "2023-03-09T12:41:22.823Z"
   },
   {
    "duration": 11,
    "start_time": "2023-03-09T12:41:23.242Z"
   },
   {
    "duration": 26,
    "start_time": "2023-03-09T12:41:23.254Z"
   },
   {
    "duration": 11,
    "start_time": "2023-03-09T12:41:23.282Z"
   },
   {
    "duration": 7,
    "start_time": "2023-03-09T12:41:23.295Z"
   },
   {
    "duration": 273,
    "start_time": "2023-03-09T12:41:23.304Z"
   },
   {
    "duration": 176,
    "start_time": "2023-03-09T12:41:23.579Z"
   },
   {
    "duration": 93,
    "start_time": "2023-03-09T12:41:23.756Z"
   },
   {
    "duration": 33,
    "start_time": "2023-03-09T12:41:23.850Z"
   },
   {
    "duration": 61,
    "start_time": "2023-03-09T12:41:23.886Z"
   },
   {
    "duration": 11,
    "start_time": "2023-03-09T12:41:23.948Z"
   },
   {
    "duration": 26,
    "start_time": "2023-03-09T12:41:23.961Z"
   },
   {
    "duration": 138,
    "start_time": "2023-03-09T12:41:23.988Z"
   },
   {
    "duration": 59,
    "start_time": "2023-03-09T12:41:24.127Z"
   },
   {
    "duration": 27,
    "start_time": "2023-03-09T12:41:24.188Z"
   },
   {
    "duration": 3,
    "start_time": "2023-03-09T12:41:24.217Z"
   },
   {
    "duration": 108,
    "start_time": "2023-03-09T12:41:24.222Z"
   },
   {
    "duration": 120,
    "start_time": "2023-03-09T12:41:24.332Z"
   },
   {
    "duration": 6,
    "start_time": "2023-03-09T12:41:24.454Z"
   },
   {
    "duration": 21,
    "start_time": "2023-03-09T12:41:24.462Z"
   },
   {
    "duration": 18,
    "start_time": "2023-03-09T12:41:24.485Z"
   },
   {
    "duration": 9,
    "start_time": "2023-03-09T12:41:24.504Z"
   },
   {
    "duration": 16,
    "start_time": "2023-03-09T12:41:24.514Z"
   },
   {
    "duration": 9,
    "start_time": "2023-03-09T12:41:24.531Z"
   },
   {
    "duration": 4,
    "start_time": "2023-03-09T12:50:20.145Z"
   },
   {
    "duration": 5,
    "start_time": "2023-03-09T12:50:21.647Z"
   },
   {
    "duration": 10,
    "start_time": "2023-03-09T12:50:23.153Z"
   },
   {
    "duration": 10,
    "start_time": "2023-03-09T12:50:25.834Z"
   },
   {
    "duration": 10,
    "start_time": "2023-03-09T12:50:27.178Z"
   },
   {
    "duration": 10,
    "start_time": "2023-03-09T12:50:29.463Z"
   }
  ],
  "hide_input": false,
  "kernelspec": {
   "display_name": "Python 3 (ipykernel)",
   "language": "python",
   "name": "python3"
  },
  "language_info": {
   "codemirror_mode": {
    "name": "ipython",
    "version": 3
   },
   "file_extension": ".py",
   "mimetype": "text/x-python",
   "name": "python",
   "nbconvert_exporter": "python",
   "pygments_lexer": "ipython3",
   "version": "3.9.15"
  },
  "toc": {
   "base_numbering": 1,
   "nav_menu": {},
   "number_sections": true,
   "sideBar": true,
   "skip_h1_title": false,
   "title_cell": "Table of Contents",
   "title_sidebar": "Contents",
   "toc_cell": false,
   "toc_position": {},
   "toc_section_display": true,
   "toc_window_display": true
  }
 },
 "nbformat": 4,
 "nbformat_minor": 5
}
